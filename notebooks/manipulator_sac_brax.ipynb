{
 "cells": [
  {
   "cell_type": "code",
   "execution_count": 1,
   "metadata": {},
   "outputs": [],
   "source": [
    "%load_ext autoreload\n",
    "%autoreload\n",
    "\n",
    "import dm_control\n",
    "import brax\n",
    "\n",
    "from IPython.core.interactiveshell import InteractiveShell\n",
    "InteractiveShell.ast_node_interactivity = \"all\""
   ]
  },
  {
   "cell_type": "code",
   "execution_count": 2,
   "metadata": {},
   "outputs": [
    {
     "ename": "AttributeError",
     "evalue": "module 'dm_control' has no attribute 'mujoco'",
     "output_type": "error",
     "traceback": [
      "\u001b[0;31m---------------------------------------------------------------------------\u001b[0m",
      "\u001b[0;31mAttributeError\u001b[0m                            Traceback (most recent call last)",
      "Cell \u001b[0;32mIn[2], line 2\u001b[0m\n\u001b[1;32m      1\u001b[0m \u001b[39m# Load the environment.\u001b[39;00m\n\u001b[0;32m----> 2\u001b[0m env \u001b[39m=\u001b[39m dm_control\u001b[39m.\u001b[39;49mmujoco\u001b[39m.\u001b[39mwrapper\u001b[39m.\u001b[39mload(\u001b[39m'\u001b[39m\u001b[39mmanipulator\u001b[39m\u001b[39m'\u001b[39m, \u001b[39m'\u001b[39m\u001b[39minsert_ball\u001b[39m\u001b[39m'\u001b[39m, target_size\u001b[39m=\u001b[39m\u001b[39m0.1\u001b[39m)\n",
      "\u001b[0;31mAttributeError\u001b[0m: module 'dm_control' has no attribute 'mujoco'"
     ]
    }
   ],
   "source": [
    "# Load the environment.\n",
    "env = dm_control.mujoco.wrapper.load('manipulator', 'insert_ball', target_size=0.1)"
   ]
  },
  {
   "cell_type": "code",
   "execution_count": null,
   "metadata": {},
   "outputs": [],
   "source": [
    "env = dm_control.suite.load('manipulator', 'insert_ball', visualize_reward=True)"
   ]
  }
 ],
 "metadata": {
  "kernelspec": {
   "display_name": "reinforcement_learning",
   "language": "python",
   "name": "python3"
  },
  "language_info": {
   "codemirror_mode": {
    "name": "ipython",
    "version": 3
   },
   "file_extension": ".py",
   "mimetype": "text/x-python",
   "name": "python",
   "nbconvert_exporter": "python",
   "pygments_lexer": "ipython3",
   "version": "3.10.8"
  },
  "orig_nbformat": 4,
  "vscode": {
   "interpreter": {
    "hash": "b329387e251b95764b8f65684563519503b45dc8027da482b0a7bdbaa4a30d3e"
   }
  }
 },
 "nbformat": 4,
 "nbformat_minor": 2
}
