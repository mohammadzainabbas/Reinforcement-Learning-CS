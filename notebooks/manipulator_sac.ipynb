{
 "cells": [
  {
   "cell_type": "code",
   "execution_count": 23,
   "metadata": {},
   "outputs": [
    {
     "name": "stdout",
     "output_type": "stream",
     "text": [
      "The autoreload extension is already loaded. To reload it, use:\n",
      "  %reload_ext autoreload\n"
     ]
    }
   ],
   "source": [
    "%load_ext autoreload\n",
    "%autoreload\n",
    "\n",
    "from sys import path\n",
    "from os import getcwd\n",
    "from os.path import join, dirname, abspath, pardir\n",
    "\n",
    "# Add the `src` directory to the path.\n",
    "parent_dir = abspath(join(getcwd(), pardir))\n",
    "src_dir = join(parent_dir, 'src')\n",
    "path.append(src_dir)\n",
    "\n",
    "# Import the `train` module.\n",
    "from train import train_sac\n",
    "\n",
    "from IPython.core.interactiveshell import InteractiveShell\n",
    "InteractiveShell.ast_node_interactivity = \"all\""
   ]
  },
  {
   "cell_type": "code",
   "execution_count": 24,
   "metadata": {},
   "outputs": [
    {
     "ename": "AttributeError",
     "evalue": "'collections.OrderedDict' object has no attribute 'shape'",
     "output_type": "error",
     "traceback": [
      "\u001b[0;31m---------------------------------------------------------------------------\u001b[0m",
      "\u001b[0;31mAttributeError\u001b[0m                            Traceback (most recent call last)",
      "Cell \u001b[0;32mIn[24], line 2\u001b[0m\n\u001b[1;32m      1\u001b[0m \u001b[39mfrom\u001b[39;00m \u001b[39mtrain\u001b[39;00m \u001b[39mimport\u001b[39;00m train_sac\n\u001b[0;32m----> 2\u001b[0m agent, env, actor, critic \u001b[39m=\u001b[39m train_sac()\n",
      "File \u001b[0;32m~/Masters/CS/Machine-Learning/Reinforcement-Learning-CS/src/train.py:25\u001b[0m, in \u001b[0;36mtrain_sac\u001b[0;34m()\u001b[0m\n\u001b[1;32m     22\u001b[0m env \u001b[39m=\u001b[39m dm_control\u001b[39m.\u001b[39msuite\u001b[39m.\u001b[39mload(\u001b[39m'\u001b[39m\u001b[39mmanipulator\u001b[39m\u001b[39m'\u001b[39m, \u001b[39m'\u001b[39m\u001b[39minsert_ball\u001b[39m\u001b[39m'\u001b[39m, visualize_reward\u001b[39m=\u001b[39m\u001b[39mTrue\u001b[39;00m)\n\u001b[1;32m     24\u001b[0m \u001b[39m# Create the actor and critic models.\u001b[39;00m\n\u001b[0;32m---> 25\u001b[0m actor \u001b[39m=\u001b[39m actor_model(env\u001b[39m=\u001b[39;49menv)\n\u001b[1;32m     26\u001b[0m critic \u001b[39m=\u001b[39m critic_model(env\u001b[39m=\u001b[39menv)\n\u001b[1;32m     28\u001b[0m \u001b[39m# Create the SAC agent.\u001b[39;00m\n",
      "File \u001b[0;32m~/Masters/CS/Machine-Learning/Reinforcement-Learning-CS/src/utils.py:14\u001b[0m, in \u001b[0;36mactor_model\u001b[0;34m(env)\u001b[0m\n\u001b[1;32m     13\u001b[0m \u001b[39mdef\u001b[39;00m \u001b[39mactor_model\u001b[39m(env: control\u001b[39m.\u001b[39mEnvironment):\n\u001b[0;32m---> 14\u001b[0m     inputs \u001b[39m=\u001b[39m tf\u001b[39m.\u001b[39mkeras\u001b[39m.\u001b[39mInput(shape\u001b[39m=\u001b[39m(env\u001b[39m.\u001b[39;49mobservation_spec()\u001b[39m.\u001b[39;49mshape[\u001b[39m0\u001b[39m],))\n\u001b[1;32m     15\u001b[0m     x \u001b[39m=\u001b[39m Dense(\u001b[39m32\u001b[39m, activation\u001b[39m=\u001b[39m\u001b[39m'\u001b[39m\u001b[39mrelu\u001b[39m\u001b[39m'\u001b[39m)(inputs)\n\u001b[1;32m     16\u001b[0m     x \u001b[39m=\u001b[39m Dense(\u001b[39m32\u001b[39m, activation\u001b[39m=\u001b[39m\u001b[39m'\u001b[39m\u001b[39mrelu\u001b[39m\u001b[39m'\u001b[39m)(x)\n",
      "\u001b[0;31mAttributeError\u001b[0m: 'collections.OrderedDict' object has no attribute 'shape'"
     ]
    }
   ],
   "source": [
    "from train import train_sac\n",
    "agent, env, actor, critic = train_sac()"
   ]
  },
  {
   "cell_type": "code",
   "execution_count": null,
   "metadata": {},
   "outputs": [],
   "source": []
  }
 ],
 "metadata": {
  "kernelspec": {
   "display_name": "reinforcement_learning",
   "language": "python",
   "name": "python3"
  },
  "language_info": {
   "codemirror_mode": {
    "name": "ipython",
    "version": 3
   },
   "file_extension": ".py",
   "mimetype": "text/x-python",
   "name": "python",
   "nbconvert_exporter": "python",
   "pygments_lexer": "ipython3",
   "version": "3.10.8"
  },
  "orig_nbformat": 4,
  "vscode": {
   "interpreter": {
    "hash": "36a60c5cf3302577070a7d8c6e53a9ae6b39bf763ce189a8e673ceba2c7b11cf"
   }
  }
 },
 "nbformat": 4,
 "nbformat_minor": 2
}
