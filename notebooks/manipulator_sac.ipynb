{
 "cells": [
  {
   "cell_type": "code",
   "execution_count": 23,
   "metadata": {},
   "outputs": [
    {
     "name": "stdout",
     "output_type": "stream",
     "text": [
      "The autoreload extension is already loaded. To reload it, use:\n",
      "  %reload_ext autoreload\n"
     ]
    }
   ],
   "source": [
    "%load_ext autoreload\n",
    "%autoreload\n",
    "\n",
    "from sys import path\n",
    "from os import getcwd\n",
    "from os.path import join, dirname, abspath, pardir\n",
    "\n",
    "# Add the `src` directory to the path.\n",
    "parent_dir = abspath(join(getcwd(), pardir))\n",
    "src_dir = join(parent_dir, 'src')\n",
    "path.append(src_dir)\n",
    "\n",
    "# Import the `train` module.\n",
    "from train import train_sac\n",
    "\n",
    "from IPython.core.interactiveshell import InteractiveShell\n",
    "InteractiveShell.ast_node_interactivity = \"all\""
   ]
  },
  {
   "cell_type": "code",
   "execution_count": 26,
   "metadata": {},
   "outputs": [],
   "source": [
    "from typing import Tuple\n",
    "import dm_control\n",
    "from dm_control.rl import control\n",
    "import numpy as np\n",
    "import tensorflow as tf"
   ]
  },
  {
   "cell_type": "code",
   "execution_count": 27,
   "metadata": {},
   "outputs": [],
   "source": [
    "env = dm_control.suite.load('manipulator', 'insert_ball', visualize_reward=True)"
   ]
  },
  {
   "cell_type": "code",
   "execution_count": 42,
   "metadata": {},
   "outputs": [
    {
     "data": {
      "text/plain": [
       "OrderedDict([('arm_pos',\n",
       "              Array(shape=(8, 2), dtype=dtype('float64'), name='arm_pos')),\n",
       "             ('arm_vel',\n",
       "              Array(shape=(8,), dtype=dtype('float64'), name='arm_vel')),\n",
       "             ('touch',\n",
       "              Array(shape=(5,), dtype=dtype('float64'), name='touch')),\n",
       "             ('hand_pos',\n",
       "              Array(shape=(4,), dtype=dtype('float64'), name='hand_pos')),\n",
       "             ('object_pos',\n",
       "              Array(shape=(4,), dtype=dtype('float64'), name='object_pos')),\n",
       "             ('object_vel',\n",
       "              Array(shape=(3,), dtype=dtype('float64'), name='object_vel')),\n",
       "             ('target_pos',\n",
       "              Array(shape=(4,), dtype=dtype('float64'), name='target_pos'))])"
      ]
     },
     "execution_count": 42,
     "metadata": {},
     "output_type": "execute_result"
    }
   ],
   "source": [
    "env.observation_spec()"
   ]
  },
  {
   "cell_type": "code",
   "execution_count": null,
   "metadata": {},
   "outputs": [],
   "source": []
  }
 ],
 "metadata": {
  "kernelspec": {
   "display_name": "reinforcement_learning",
   "language": "python",
   "name": "python3"
  },
  "language_info": {
   "codemirror_mode": {
    "name": "ipython",
    "version": 3
   },
   "file_extension": ".py",
   "mimetype": "text/x-python",
   "name": "python",
   "nbconvert_exporter": "python",
   "pygments_lexer": "ipython3",
   "version": "3.10.8"
  },
  "orig_nbformat": 4,
  "vscode": {
   "interpreter": {
    "hash": "36a60c5cf3302577070a7d8c6e53a9ae6b39bf763ce189a8e673ceba2c7b11cf"
   }
  }
 },
 "nbformat": 4,
 "nbformat_minor": 2
}
