{
 "cells": [
  {
   "cell_type": "code",
   "execution_count": 7,
   "metadata": {},
   "outputs": [],
   "source": [
    "%load_ext autoreload\n",
    "%autoreload\n",
    "\n",
    "from sys import path\n",
    "from os import getcwd\n",
    "from os.path import join, dirname, abspath, pardir\n",
    "\n",
    "# Add the `src` directory to the path.\n",
    "parent_dir = abspath(join(getcwd(), pardir))\n",
    "src_dir = join(parent_dir, 'src')\n",
    "path.append(src_dir)\n",
    "\n",
    "# Import the `train` module.\n",
    "from train import train_sac\n",
    "\n",
    "from IPython.core.interactiveshell import InteractiveShell\n",
    "InteractiveShell.ast_node_interactivity = \"all\""
   ]
  },
  {
   "cell_type": "code",
   "execution_count": 10,
   "metadata": {},
   "outputs": [],
   "source": []
  },
  {
   "cell_type": "code",
   "execution_count": 15,
   "metadata": {},
   "outputs": [],
   "source": [
    "from train import train_sac"
   ]
  },
  {
   "cell_type": "code",
   "execution_count": 16,
   "metadata": {},
   "outputs": [
    {
     "ename": "TypeError",
     "evalue": "insert_ball() got an unexpected keyword argument 'target_size'",
     "output_type": "error",
     "traceback": [
      "\u001b[0;31m---------------------------------------------------------------------------\u001b[0m",
      "\u001b[0;31mTypeError\u001b[0m                                 Traceback (most recent call last)",
      "Cell \u001b[0;32mIn[16], line 1\u001b[0m\n\u001b[0;32m----> 1\u001b[0m agent, env, actor, critic \u001b[39m=\u001b[39m train_sac()\n",
      "File \u001b[0;32m~/Masters/CS/Machine-Learning/Reinforcement-Learning-CS/src/train.py:22\u001b[0m, in \u001b[0;36mtrain_sac\u001b[0;34m()\u001b[0m\n\u001b[1;32m     19\u001b[0m tf\u001b[39m.\u001b[39mrandom\u001b[39m.\u001b[39mset_seed(SEED)\n\u001b[1;32m     21\u001b[0m \u001b[39m# Load the `manipulator` environment.\u001b[39;00m\n\u001b[0;32m---> 22\u001b[0m env \u001b[39m=\u001b[39m dm_control\u001b[39m.\u001b[39;49msuite\u001b[39m.\u001b[39;49mload(\u001b[39m'\u001b[39;49m\u001b[39mmanipulator\u001b[39;49m\u001b[39m'\u001b[39;49m, \u001b[39m'\u001b[39;49m\u001b[39minsert_ball\u001b[39;49m\u001b[39m'\u001b[39;49m, task_kwargs\u001b[39m=\u001b[39;49m\u001b[39mdict\u001b[39;49m(target_size\u001b[39m=\u001b[39;49m\u001b[39m'\u001b[39;49m\u001b[39mlarge\u001b[39;49m\u001b[39m'\u001b[39;49m))\n\u001b[1;32m     24\u001b[0m \u001b[39m# Create the actor and critic models.\u001b[39;00m\n\u001b[1;32m     25\u001b[0m actor \u001b[39m=\u001b[39m actor_model(env\u001b[39m=\u001b[39menv)\n",
      "File \u001b[0;32m/opt/homebrew/Caskroom/mambaforge/base/envs/reinforcement_learning/lib/python3.10/site-packages/dm_control/suite/__init__.py:113\u001b[0m, in \u001b[0;36mload\u001b[0;34m(domain_name, task_name, task_kwargs, environment_kwargs, visualize_reward)\u001b[0m\n\u001b[1;32m     93\u001b[0m \u001b[39mdef\u001b[39;00m \u001b[39mload\u001b[39m(domain_name, task_name, task_kwargs\u001b[39m=\u001b[39m\u001b[39mNone\u001b[39;00m, environment_kwargs\u001b[39m=\u001b[39m\u001b[39mNone\u001b[39;00m,\n\u001b[1;32m     94\u001b[0m          visualize_reward\u001b[39m=\u001b[39m\u001b[39mFalse\u001b[39;00m):\n\u001b[1;32m     95\u001b[0m   \u001b[39m\"\"\"Returns an environment from a domain name, task name and optional settings.\u001b[39;00m\n\u001b[1;32m     96\u001b[0m \n\u001b[1;32m     97\u001b[0m \u001b[39m  ```python\u001b[39;00m\n\u001b[0;32m   (...)\u001b[0m\n\u001b[1;32m    111\u001b[0m \u001b[39m    The requested environment.\u001b[39;00m\n\u001b[1;32m    112\u001b[0m \u001b[39m  \"\"\"\u001b[39;00m\n\u001b[0;32m--> 113\u001b[0m   \u001b[39mreturn\u001b[39;00m build_environment(domain_name, task_name, task_kwargs,\n\u001b[1;32m    114\u001b[0m                            environment_kwargs, visualize_reward)\n",
      "File \u001b[0;32m/opt/homebrew/Caskroom/mambaforge/base/envs/reinforcement_learning/lib/python3.10/site-packages/dm_control/suite/__init__.py:148\u001b[0m, in \u001b[0;36mbuild_environment\u001b[0;34m(domain_name, task_name, task_kwargs, environment_kwargs, visualize_reward)\u001b[0m\n\u001b[1;32m    146\u001b[0m \u001b[39mif\u001b[39;00m environment_kwargs \u001b[39mis\u001b[39;00m \u001b[39mnot\u001b[39;00m \u001b[39mNone\u001b[39;00m:\n\u001b[1;32m    147\u001b[0m   task_kwargs \u001b[39m=\u001b[39m \u001b[39mdict\u001b[39m(task_kwargs, environment_kwargs\u001b[39m=\u001b[39menvironment_kwargs)\n\u001b[0;32m--> 148\u001b[0m env \u001b[39m=\u001b[39m domain\u001b[39m.\u001b[39;49mSUITE[task_name](\u001b[39m*\u001b[39;49m\u001b[39m*\u001b[39;49mtask_kwargs)\n\u001b[1;32m    149\u001b[0m env\u001b[39m.\u001b[39mtask\u001b[39m.\u001b[39mvisualize_reward \u001b[39m=\u001b[39m visualize_reward\n\u001b[1;32m    150\u001b[0m \u001b[39mreturn\u001b[39;00m env\n",
      "\u001b[0;31mTypeError\u001b[0m: insert_ball() got an unexpected keyword argument 'target_size'"
     ]
    }
   ],
   "source": [
    "agent, env, actor, critic = train_sac()"
   ]
  },
  {
   "cell_type": "code",
   "execution_count": null,
   "metadata": {},
   "outputs": [],
   "source": []
  }
 ],
 "metadata": {
  "kernelspec": {
   "display_name": "reinforcement_learning",
   "language": "python",
   "name": "python3"
  },
  "language_info": {
   "codemirror_mode": {
    "name": "ipython",
    "version": 3
   },
   "file_extension": ".py",
   "mimetype": "text/x-python",
   "name": "python",
   "nbconvert_exporter": "python",
   "pygments_lexer": "ipython3",
   "version": "3.10.8"
  },
  "orig_nbformat": 4,
  "vscode": {
   "interpreter": {
    "hash": "36a60c5cf3302577070a7d8c6e53a9ae6b39bf763ce189a8e673ceba2c7b11cf"
   }
  }
 },
 "nbformat": 4,
 "nbformat_minor": 2
}
