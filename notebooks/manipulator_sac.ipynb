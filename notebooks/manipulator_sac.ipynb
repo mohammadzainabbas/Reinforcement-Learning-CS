{
 "cells": [
  {
   "cell_type": "code",
   "execution_count": 7,
   "metadata": {},
   "outputs": [],
   "source": [
    "%load_ext autoreload\n",
    "%autoreload\n",
    "\n",
    "from sys import path\n",
    "from os import getcwd\n",
    "from os.path import join, dirname, abspath, pardir\n",
    "\n",
    "# Add the `src` directory to the path.\n",
    "parent_dir = abspath(join(getcwd(), pardir))\n",
    "src_dir = join(parent_dir, 'src')\n",
    "path.append(src_dir)\n",
    "\n",
    "# Import the `train` module.\n",
    "from train import train_sac\n",
    "\n",
    "from IPython.core.interactiveshell import InteractiveShell\n",
    "InteractiveShell.ast_node_interactivity = \"all\""
   ]
  },
  {
   "cell_type": "code",
   "execution_count": 10,
   "metadata": {},
   "outputs": [],
   "source": []
  },
  {
   "cell_type": "code",
   "execution_count": 12,
   "metadata": {},
   "outputs": [
    {
     "ename": "AttributeError",
     "evalue": "module 'dm_control.suite' has no attribute 'Environment'",
     "output_type": "error",
     "traceback": [
      "\u001b[0;31m---------------------------------------------------------------------------\u001b[0m",
      "\u001b[0;31mAttributeError\u001b[0m                            Traceback (most recent call last)",
      "Cell \u001b[0;32mIn[12], line 1\u001b[0m\n\u001b[0;32m----> 1\u001b[0m \u001b[39mfrom\u001b[39;00m \u001b[39mtrain\u001b[39;00m \u001b[39mimport\u001b[39;00m train_sac\n",
      "File \u001b[0;32m~/Masters/CS/Machine-Learning/Reinforcement-Learning-CS/src/train.py:8\u001b[0m\n\u001b[1;32m      5\u001b[0m \u001b[39mimport\u001b[39;00m \u001b[39mtensorflow\u001b[39;00m \u001b[39mas\u001b[39;00m \u001b[39mtf\u001b[39;00m\n\u001b[1;32m      7\u001b[0m \u001b[39mfrom\u001b[39;00m \u001b[39msac\u001b[39;00m \u001b[39mimport\u001b[39;00m SACAgent\n\u001b[0;32m----> 8\u001b[0m \u001b[39mfrom\u001b[39;00m \u001b[39mutils\u001b[39;00m \u001b[39mimport\u001b[39;00m actor_model, critic_model, preprocess_data, print_log\n\u001b[1;32m     10\u001b[0m \u001b[39mdef\u001b[39;00m \u001b[39mtrain_sac\u001b[39m() \u001b[39m-\u001b[39m\u001b[39m>\u001b[39m Tuple[SACAgent, suite\u001b[39m.\u001b[39mEnvironment, tf\u001b[39m.\u001b[39mkeras\u001b[39m.\u001b[39mModel, tf\u001b[39m.\u001b[39mkeras\u001b[39m.\u001b[39mModel]:\n\u001b[1;32m     11\u001b[0m     \u001b[39m# Defaults\u001b[39;00m\n\u001b[1;32m     12\u001b[0m     SEED \u001b[39m=\u001b[39m \u001b[39m42\u001b[39m\n",
      "File \u001b[0;32m~/Masters/CS/Machine-Learning/Reinforcement-Learning-CS/src/utils.py:12\u001b[0m\n\u001b[1;32m      9\u001b[0m \u001b[39mdef\u001b[39;00m \u001b[39mprint_error\u001b[39m(text: \u001b[39mstr\u001b[39m, \u001b[39m*\u001b[39m\u001b[39m*\u001b[39mkwargs): \u001b[39mprint\u001b[39m(\u001b[39mf\u001b[39m\u001b[39m\"\u001b[39m\u001b[39m[ error ] \u001b[39m\u001b[39m{\u001b[39;00mtext\u001b[39m}\u001b[39;00m\u001b[39m\"\u001b[39m,\u001b[39m*\u001b[39m\u001b[39m*\u001b[39mkwargs)\n\u001b[1;32m     11\u001b[0m \u001b[39m# Define the actor model.\u001b[39;00m\n\u001b[0;32m---> 12\u001b[0m \u001b[39mdef\u001b[39;00m \u001b[39mactor_model\u001b[39m(env: suite\u001b[39m.\u001b[39;49mEnvironment):\n\u001b[1;32m     13\u001b[0m     inputs \u001b[39m=\u001b[39m tf\u001b[39m.\u001b[39mkeras\u001b[39m.\u001b[39mInput(shape\u001b[39m=\u001b[39m(env\u001b[39m.\u001b[39mobservation_spec()\u001b[39m.\u001b[39mshape[\u001b[39m0\u001b[39m],))\n\u001b[1;32m     14\u001b[0m     x \u001b[39m=\u001b[39m Dense(\u001b[39m32\u001b[39m, activation\u001b[39m=\u001b[39m\u001b[39m'\u001b[39m\u001b[39mrelu\u001b[39m\u001b[39m'\u001b[39m)(inputs)\n",
      "\u001b[0;31mAttributeError\u001b[0m: module 'dm_control.suite' has no attribute 'Environment'"
     ]
    }
   ],
   "source": [
    "from train import train_sac"
   ]
  },
  {
   "cell_type": "code",
   "execution_count": null,
   "metadata": {},
   "outputs": [],
   "source": []
  }
 ],
 "metadata": {
  "kernelspec": {
   "display_name": "reinforcement_learning",
   "language": "python",
   "name": "python3"
  },
  "language_info": {
   "codemirror_mode": {
    "name": "ipython",
    "version": 3
   },
   "file_extension": ".py",
   "mimetype": "text/x-python",
   "name": "python",
   "nbconvert_exporter": "python",
   "pygments_lexer": "ipython3",
   "version": "3.10.8"
  },
  "orig_nbformat": 4,
  "vscode": {
   "interpreter": {
    "hash": "36a60c5cf3302577070a7d8c6e53a9ae6b39bf763ce189a8e673ceba2c7b11cf"
   }
  }
 },
 "nbformat": 4,
 "nbformat_minor": 2
}
