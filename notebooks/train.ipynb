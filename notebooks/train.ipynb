{
 "cells": [
  {
   "cell_type": "code",
   "execution_count": 4,
   "metadata": {},
   "outputs": [],
   "source": [
    "#@title Import Brax and some helper modules\n",
    "from IPython.display import clear_output\n",
    "\n",
    "import collections\n",
    "from datetime import datetime\n",
    "import functools\n",
    "import math\n",
    "import time\n",
    "from typing import Any, Callable, Dict, Optional, Sequence\n",
    "\n",
    "try:\n",
    "\timport brax\n",
    "except ImportError:\n",
    "\t!pip install git+https://github.com/google/brax.git@main\n",
    "\tclear_output()\n",
    "\timport brax\n",
    "\n",
    "from brax import envs\n",
    "from brax.envs import to_torch\n",
    "from brax.io import metrics\n",
    "from brax.training.agents.ppo import train as ppo\n",
    "import gymnasium as gym\n",
    "import matplotlib.pyplot as plt\n",
    "import numpy as np\n",
    "import torch\n",
    "from torch import nn\n",
    "from torch import optim\n",
    "import torch.nn.functional as F\n",
    "\n",
    "# have torch allocate on device first, to prevent JAX from swallowing up all the\n",
    "# GPU memory. By default JAX will pre-allocate 90% of the available GPU memory:\n",
    "# https://jax.readthedocs.io/en/latest/gpu_memory_allocation.html\n",
    "DEVICE = \"cpu\" if not torch.cuda.is_available() else \"cuda\"\n",
    "v = torch.ones(1, device=DEVICE)"
   ]
  },
  {
   "cell_type": "code",
   "execution_count": 2,
   "metadata": {},
   "outputs": [],
   "source": [
    "DEVICE = \"cpu\""
   ]
  },
  {
   "cell_type": "code",
   "execution_count": 7,
   "metadata": {},
   "outputs": [],
   "source": [
    "gym_name = f'FetchSlide-v2'\n",
    "if gym_name not in gym.envs.registry.keys():\n",
    "\tentry_point = functools.partial(envs.create_gym_env, env_name=gym_name)\n",
    "\tgym.register(gym_name, entry_point=entry_point)\n",
    "# env = gym.make(gym_name, batch_size=num_envs, episode_length=episode_length)\n",
    "env = gym.make(gym_name)\n",
    "# automatically convert between jax ndarrays and torch tensors:\n",
    "env = to_torch.JaxToTorchWrapper(env, device=DEVICE)"
   ]
  },
  {
   "cell_type": "code",
   "execution_count": 11,
   "metadata": {},
   "outputs": [],
   "source": [
    "_ = env.reset()"
   ]
  },
  {
   "cell_type": "code",
   "execution_count": 13,
   "metadata": {},
   "outputs": [],
   "source": [
    "action = torch.zeros(env.action_space.shape).to(DEVICE)"
   ]
  },
  {
   "cell_type": "code",
   "execution_count": 23,
   "metadata": {},
   "outputs": [
    {
     "data": {
      "text/plain": [
       "(4,)"
      ]
     },
     "execution_count": 23,
     "metadata": {},
     "output_type": "execute_result"
    }
   ],
   "source": [
    "env.action_space.shape"
   ]
  },
  {
   "cell_type": "code",
   "execution_count": 10,
   "metadata": {},
   "outputs": [],
   "source": [
    "gym_env = JaxToTorchWrapper(env, device=DEVICE)"
   ]
  },
  {
   "cell_type": "code",
   "execution_count": 11,
   "metadata": {},
   "outputs": [
    {
     "data": {
      "text/plain": [
       "<JaxToTorchWrapper<TimeLimit<OrderEnforcing<PassiveEnvChecker<MujocoFetchSlideEnv<FetchSlide-v2>>>>>>"
      ]
     },
     "execution_count": 11,
     "metadata": {},
     "output_type": "execute_result"
    }
   ],
   "source": [
    "gym_env"
   ]
  },
  {
   "cell_type": "code",
   "execution_count": 13,
   "metadata": {},
   "outputs": [],
   "source": [
    "obs = gym_env.reset()"
   ]
  },
  {
   "cell_type": "code",
   "execution_count": 14,
   "metadata": {},
   "outputs": [
    {
     "data": {
      "text/plain": [
       "({'observation': array([ 9.96056349e-01,  7.48908387e-01,  4.12666572e-01,  9.04922569e-01,\n",
       "          6.83324140e-01,  4.14022562e-01, -9.11337793e-02, -6.55842470e-02,\n",
       "          1.35598971e-03, -2.03562423e-06,  1.47158977e-03, -5.32964269e-03,\n",
       "          1.24548654e-04, -1.88202238e-02,  1.22698261e-03, -5.56736934e-05,\n",
       "          6.43864204e-05,  1.86450993e-02, -4.64845340e-04, -4.83036131e-03,\n",
       "         -1.26969656e-03,  5.03838696e-05,  7.97511346e-06,  4.66194862e-07,\n",
       "          5.49241789e-05]),\n",
       "  'achieved_goal': array([0.90492257, 0.68332414, 0.41402256]),\n",
       "  'desired_goal': array([1.67190182, 0.88547116, 0.41401894])},\n",
       " {})"
      ]
     },
     "execution_count": 14,
     "metadata": {},
     "output_type": "execute_result"
    }
   ],
   "source": [
    "obs"
   ]
  },
  {
   "cell_type": "code",
   "execution_count": 20,
   "metadata": {},
   "outputs": [],
   "source": [
    "action = torch.rand(gym_env.action_space.shape, device=DEVICE) * 2 - 1"
   ]
  },
  {
   "cell_type": "code",
   "execution_count": 21,
   "metadata": {},
   "outputs": [
    {
     "data": {
      "text/plain": [
       "tensor([ 0.1643,  0.0064,  0.0149, -0.5972])"
      ]
     },
     "execution_count": 21,
     "metadata": {},
     "output_type": "execute_result"
    }
   ],
   "source": [
    "action"
   ]
  },
  {
   "cell_type": "code",
   "execution_count": 22,
   "metadata": {},
   "outputs": [
    {
     "ename": "ValueError",
     "evalue": "too many values to unpack (expected 4)",
     "output_type": "error",
     "traceback": [
      "\u001b[0;31m---------------------------------------------------------------------------\u001b[0m",
      "\u001b[0;31mValueError\u001b[0m                                Traceback (most recent call last)",
      "Cell \u001b[0;32mIn[22], line 1\u001b[0m\n\u001b[0;32m----> 1\u001b[0m gym_env\u001b[39m.\u001b[39;49mstep(action)\n",
      "File \u001b[0;32m~/anaconda3/envs/reinforcement_learning/lib/python3.10/site-packages/brax/envs/to_torch.py:59\u001b[0m, in \u001b[0;36mJaxToTorchWrapper.step\u001b[0;34m(self, action)\u001b[0m\n\u001b[1;32m     57\u001b[0m \u001b[39mdef\u001b[39;00m \u001b[39mstep\u001b[39m(\u001b[39mself\u001b[39m, action):\n\u001b[1;32m     58\u001b[0m   action \u001b[39m=\u001b[39m \u001b[39mself\u001b[39m\u001b[39m.\u001b[39maction(action)\n\u001b[0;32m---> 59\u001b[0m   obs, reward, done, info \u001b[39m=\u001b[39m \u001b[39msuper\u001b[39m()\u001b[39m.\u001b[39mstep(action)\n\u001b[1;32m     60\u001b[0m   obs \u001b[39m=\u001b[39m \u001b[39mself\u001b[39m\u001b[39m.\u001b[39mobservation(obs)\n\u001b[1;32m     61\u001b[0m   reward \u001b[39m=\u001b[39m \u001b[39mself\u001b[39m\u001b[39m.\u001b[39mreward(reward)\n",
      "\u001b[0;31mValueError\u001b[0m: too many values to unpack (expected 4)"
     ]
    }
   ],
   "source": [
    "gym_env.step(action)"
   ]
  },
  {
   "cell_type": "code",
   "execution_count": 31,
   "metadata": {},
   "outputs": [
    {
     "data": {
      "text/plain": [
       "['Acrobot-v1',\n",
       " 'AdroitHandDoor-v1',\n",
       " 'AdroitHandDoorSparse-v1',\n",
       " 'AdroitHandHammer-v1',\n",
       " 'AdroitHandHammerSparse-v1',\n",
       " 'AdroitHandPen-v1',\n",
       " 'AdroitHandPenSparse-v1',\n",
       " 'AdroitHandRelocate-v1',\n",
       " 'AdroitHandRelocateSparse-v1',\n",
       " 'Ant-v2',\n",
       " 'Ant-v3',\n",
       " 'Ant-v4',\n",
       " 'AntMaze_Large-v3',\n",
       " 'AntMaze_LargeDense-v3',\n",
       " 'AntMaze_Large_Diverse_G-v3',\n",
       " 'AntMaze_Large_Diverse_GDense-v3',\n",
       " 'AntMaze_Large_Diverse_GR-v3',\n",
       " 'AntMaze_Large_Diverse_GRDense-v3',\n",
       " 'AntMaze_Medium-v3',\n",
       " 'AntMaze_MediumDense-v3',\n",
       " 'AntMaze_Medium_Diverse_G-v3',\n",
       " 'AntMaze_Medium_Diverse_GDense-v3',\n",
       " 'AntMaze_Medium_Diverse_GR-v3',\n",
       " 'AntMaze_Medium_Diverse_GRDense-v3',\n",
       " 'AntMaze_Open-v3',\n",
       " 'AntMaze_OpenDense-v3',\n",
       " 'AntMaze_Open_Diverse_G-v3',\n",
       " 'AntMaze_Open_Diverse_GDense-v3',\n",
       " 'AntMaze_Open_Diverse_GR-v3',\n",
       " 'AntMaze_Open_Diverse_GRDense-v3',\n",
       " 'AntMaze_UMaze-v3',\n",
       " 'AntMaze_UMazeDense-v3',\n",
       " 'BipedalWalker-v3',\n",
       " 'BipedalWalkerHardcore-v3',\n",
       " 'Blackjack-v1',\n",
       " 'CarRacing-v2',\n",
       " 'CartPole-v0',\n",
       " 'CartPole-v1',\n",
       " 'CartPoleJax-v0',\n",
       " 'CartPoleJax-v1',\n",
       " 'CliffWalking-v0',\n",
       " 'FetchPickAndPlace-v1',\n",
       " 'FetchPickAndPlace-v2',\n",
       " 'FetchPickAndPlaceDense-v1',\n",
       " 'FetchPickAndPlaceDense-v2',\n",
       " 'FetchPush-v1',\n",
       " 'FetchPush-v2',\n",
       " 'FetchPushDense-v1',\n",
       " 'FetchPushDense-v2',\n",
       " 'FetchReach-v1',\n",
       " 'FetchReach-v2',\n",
       " 'FetchReach-v3',\n",
       " 'FetchReachDense-v1',\n",
       " 'FetchReachDense-v2',\n",
       " 'FetchReachDense-v3',\n",
       " 'FetchSlide-v1',\n",
       " 'FetchSlide-v2',\n",
       " 'FetchSlideDense-v1',\n",
       " 'FetchSlideDense-v2',\n",
       " 'FrankaKitchen-v1',\n",
       " 'FrozenLake-v1',\n",
       " 'FrozenLake8x8-v1',\n",
       " 'GymV22Environment-v0',\n",
       " 'GymV26Environment-v0',\n",
       " 'HalfCheetah-v2',\n",
       " 'HalfCheetah-v3',\n",
       " 'HalfCheetah-v4',\n",
       " 'HandManipulateBlock-v0',\n",
       " 'HandManipulateBlock-v1',\n",
       " 'HandManipulateBlockDense-v0',\n",
       " 'HandManipulateBlockDense-v1',\n",
       " 'HandManipulateBlockFull-v0',\n",
       " 'HandManipulateBlockFull-v1',\n",
       " 'HandManipulateBlockFullDense-v0',\n",
       " 'HandManipulateBlockFullDense-v1',\n",
       " 'HandManipulateBlockRotateParallel-v0',\n",
       " 'HandManipulateBlockRotateParallel-v1',\n",
       " 'HandManipulateBlockRotateParallelDense-v0',\n",
       " 'HandManipulateBlockRotateParallelDense-v1',\n",
       " 'HandManipulateBlockRotateParallel_BooleanTouchSensors-v0',\n",
       " 'HandManipulateBlockRotateParallel_BooleanTouchSensors-v1',\n",
       " 'HandManipulateBlockRotateParallel_BooleanTouchSensorsDense-v0',\n",
       " 'HandManipulateBlockRotateParallel_BooleanTouchSensorsDense-v1',\n",
       " 'HandManipulateBlockRotateParallel_ContinuousTouchSensors-v0',\n",
       " 'HandManipulateBlockRotateParallel_ContinuousTouchSensors-v1',\n",
       " 'HandManipulateBlockRotateParallel_ContinuousTouchSensorsDense-v0',\n",
       " 'HandManipulateBlockRotateParallel_ContinuousTouchSensorsDense-v1',\n",
       " 'HandManipulateBlockRotateXYZ-v0',\n",
       " 'HandManipulateBlockRotateXYZ-v1',\n",
       " 'HandManipulateBlockRotateXYZDense-v0',\n",
       " 'HandManipulateBlockRotateXYZDense-v1',\n",
       " 'HandManipulateBlockRotateXYZ_BooleanTouchSensors-v0',\n",
       " 'HandManipulateBlockRotateXYZ_BooleanTouchSensors-v1',\n",
       " 'HandManipulateBlockRotateXYZ_BooleanTouchSensorsDense-v0',\n",
       " 'HandManipulateBlockRotateXYZ_BooleanTouchSensorsDense-v1',\n",
       " 'HandManipulateBlockRotateXYZ_ContinuousTouchSensors-v0',\n",
       " 'HandManipulateBlockRotateXYZ_ContinuousTouchSensors-v1',\n",
       " 'HandManipulateBlockRotateXYZ_ContinuousTouchSensorsDense-v0',\n",
       " 'HandManipulateBlockRotateXYZ_ContinuousTouchSensorsDense-v1',\n",
       " 'HandManipulateBlockRotateZ-v0',\n",
       " 'HandManipulateBlockRotateZ-v1',\n",
       " 'HandManipulateBlockRotateZDense-v0',\n",
       " 'HandManipulateBlockRotateZDense-v1',\n",
       " 'HandManipulateBlockRotateZ_BooleanTouchSensors-v0',\n",
       " 'HandManipulateBlockRotateZ_BooleanTouchSensors-v1',\n",
       " 'HandManipulateBlockRotateZ_BooleanTouchSensorsDense-v0',\n",
       " 'HandManipulateBlockRotateZ_BooleanTouchSensorsDense-v1',\n",
       " 'HandManipulateBlockRotateZ_ContinuousTouchSensors-v0',\n",
       " 'HandManipulateBlockRotateZ_ContinuousTouchSensors-v1',\n",
       " 'HandManipulateBlockRotateZ_ContinuousTouchSensorsDense-v0',\n",
       " 'HandManipulateBlockRotateZ_ContinuousTouchSensorsDense-v1',\n",
       " 'HandManipulateBlock_BooleanTouchSensors-v0',\n",
       " 'HandManipulateBlock_BooleanTouchSensors-v1',\n",
       " 'HandManipulateBlock_BooleanTouchSensorsDense-v0',\n",
       " 'HandManipulateBlock_BooleanTouchSensorsDense-v1',\n",
       " 'HandManipulateBlock_ContinuousTouchSensors-v0',\n",
       " 'HandManipulateBlock_ContinuousTouchSensors-v1',\n",
       " 'HandManipulateBlock_ContinuousTouchSensorsDense-v0',\n",
       " 'HandManipulateBlock_ContinuousTouchSensorsDense-v1',\n",
       " 'HandManipulateEgg-v0',\n",
       " 'HandManipulateEgg-v1',\n",
       " 'HandManipulateEggDense-v0',\n",
       " 'HandManipulateEggDense-v1',\n",
       " 'HandManipulateEggFull-v0',\n",
       " 'HandManipulateEggFull-v1',\n",
       " 'HandManipulateEggFullDense-v0',\n",
       " 'HandManipulateEggFullDense-v1',\n",
       " 'HandManipulateEggRotate-v0',\n",
       " 'HandManipulateEggRotate-v1',\n",
       " 'HandManipulateEggRotateDense-v0',\n",
       " 'HandManipulateEggRotateDense-v1',\n",
       " 'HandManipulateEggRotate_BooleanTouchSensors-v0',\n",
       " 'HandManipulateEggRotate_BooleanTouchSensors-v1',\n",
       " 'HandManipulateEggRotate_BooleanTouchSensorsDense-v0',\n",
       " 'HandManipulateEggRotate_BooleanTouchSensorsDense-v1',\n",
       " 'HandManipulateEggRotate_ContinuousTouchSensors-v0',\n",
       " 'HandManipulateEggRotate_ContinuousTouchSensors-v1',\n",
       " 'HandManipulateEggRotate_ContinuousTouchSensorsDense-v0',\n",
       " 'HandManipulateEggRotate_ContinuousTouchSensorsDense-v1',\n",
       " 'HandManipulateEgg_BooleanTouchSensors-v0',\n",
       " 'HandManipulateEgg_BooleanTouchSensors-v1',\n",
       " 'HandManipulateEgg_BooleanTouchSensorsDense-v0',\n",
       " 'HandManipulateEgg_BooleanTouchSensorsDense-v1',\n",
       " 'HandManipulateEgg_ContinuousTouchSensors-v0',\n",
       " 'HandManipulateEgg_ContinuousTouchSensors-v1',\n",
       " 'HandManipulateEgg_ContinuousTouchSensorsDense-v0',\n",
       " 'HandManipulateEgg_ContinuousTouchSensorsDense-v1',\n",
       " 'HandManipulatePen-v0',\n",
       " 'HandManipulatePen-v1',\n",
       " 'HandManipulatePenDense-v0',\n",
       " 'HandManipulatePenDense-v1',\n",
       " 'HandManipulatePenFull-v0',\n",
       " 'HandManipulatePenFull-v1',\n",
       " 'HandManipulatePenFullDense-v0',\n",
       " 'HandManipulatePenFullDense-v1',\n",
       " 'HandManipulatePenRotate-v0',\n",
       " 'HandManipulatePenRotate-v1',\n",
       " 'HandManipulatePenRotateDense-v0',\n",
       " 'HandManipulatePenRotateDense-v1',\n",
       " 'HandManipulatePenRotate_BooleanTouchSensors-v0',\n",
       " 'HandManipulatePenRotate_BooleanTouchSensors-v1',\n",
       " 'HandManipulatePenRotate_BooleanTouchSensorsDense-v0',\n",
       " 'HandManipulatePenRotate_BooleanTouchSensorsDense-v1',\n",
       " 'HandManipulatePenRotate_ContinuousTouchSensors-v0',\n",
       " 'HandManipulatePenRotate_ContinuousTouchSensors-v1',\n",
       " 'HandManipulatePenRotate_ContinuousTouchSensorsDense-v0',\n",
       " 'HandManipulatePenRotate_ContinuousTouchSensorsDense-v1',\n",
       " 'HandManipulatePen_BooleanTouchSensors-v0',\n",
       " 'HandManipulatePen_BooleanTouchSensors-v1',\n",
       " 'HandManipulatePen_BooleanTouchSensorsDense-v0',\n",
       " 'HandManipulatePen_BooleanTouchSensorsDense-v1',\n",
       " 'HandManipulatePen_ContinuousTouchSensors-v0',\n",
       " 'HandManipulatePen_ContinuousTouchSensors-v1',\n",
       " 'HandManipulatePen_ContinuousTouchSensorsDense-v0',\n",
       " 'HandManipulatePen_ContinuousTouchSensorsDense-v1',\n",
       " 'HandReach-v0',\n",
       " 'HandReach-v1',\n",
       " 'HandReachDense-v0',\n",
       " 'HandReachDense-v1',\n",
       " 'Hopper-v2',\n",
       " 'Hopper-v3',\n",
       " 'Hopper-v4',\n",
       " 'Humanoid-v2',\n",
       " 'Humanoid-v3',\n",
       " 'Humanoid-v4',\n",
       " 'HumanoidStandup-v2',\n",
       " 'HumanoidStandup-v4',\n",
       " 'InvertedDoublePendulum-v2',\n",
       " 'InvertedDoublePendulum-v4',\n",
       " 'InvertedPendulum-v2',\n",
       " 'InvertedPendulum-v4',\n",
       " 'LunarLander-v2',\n",
       " 'LunarLanderContinuous-v2',\n",
       " 'MountainCar-v0',\n",
       " 'MountainCarContinuous-v0',\n",
       " 'Pendulum-v1',\n",
       " 'PendulumJax-v0',\n",
       " 'PointMaze_Large-v3',\n",
       " 'PointMaze_LargeDense-v3',\n",
       " 'PointMaze_Large_Diverse_G-v3',\n",
       " 'PointMaze_Large_Diverse_GDense-v3',\n",
       " 'PointMaze_Large_Diverse_GR-v3',\n",
       " 'PointMaze_Large_Diverse_GRDense-v3',\n",
       " 'PointMaze_Medium-v3',\n",
       " 'PointMaze_MediumDense-v3',\n",
       " 'PointMaze_Medium_Diverse_G-v3',\n",
       " 'PointMaze_Medium_Diverse_GDense-v3',\n",
       " 'PointMaze_Medium_Diverse_GR-v3',\n",
       " 'PointMaze_Medium_Diverse_GRDense-v3',\n",
       " 'PointMaze_Open-v3',\n",
       " 'PointMaze_OpenDense-v3',\n",
       " 'PointMaze_Open_Diverse_G-v3',\n",
       " 'PointMaze_Open_Diverse_GDense-v3',\n",
       " 'PointMaze_UMaze-v3',\n",
       " 'PointMaze_UMazeDense-v3',\n",
       " 'Pusher-v2',\n",
       " 'Pusher-v4',\n",
       " 'Reacher-v2',\n",
       " 'Reacher-v4',\n",
       " 'Swimmer-v2',\n",
       " 'Swimmer-v3',\n",
       " 'Swimmer-v4',\n",
       " 'Taxi-v3',\n",
       " 'Walker2d-v2',\n",
       " 'Walker2d-v3',\n",
       " 'Walker2d-v4',\n",
       " 'dm_control/CmuHumanoidGoToTarget-v0',\n",
       " 'dm_control/CmuHumanoidHeterogeneousForage-v0',\n",
       " 'dm_control/CmuHumanoidMazeForage-v0',\n",
       " 'dm_control/CmuHumanoidRunGaps-v0',\n",
       " 'dm_control/CmuHumanoidRunWalls-v0',\n",
       " 'dm_control/RodentEscapeBowl-v0',\n",
       " 'dm_control/RodentMazeForage-v0',\n",
       " 'dm_control/RodentRunGaps-v0',\n",
       " 'dm_control/RodentTwoTouch-v0',\n",
       " 'dm_control/acrobot-swingup-v0',\n",
       " 'dm_control/acrobot-swingup_sparse-v0',\n",
       " 'dm_control/ball_in_cup-catch-v0',\n",
       " 'dm_control/cartpole-balance-v0',\n",
       " 'dm_control/cartpole-balance_sparse-v0',\n",
       " 'dm_control/cartpole-swingup-v0',\n",
       " 'dm_control/cartpole-swingup_sparse-v0',\n",
       " 'dm_control/cartpole-three_poles-v0',\n",
       " 'dm_control/cartpole-two_poles-v0',\n",
       " 'dm_control/cheetah-run-v0',\n",
       " 'dm_control/compatibility-env-v0',\n",
       " 'dm_control/dog-fetch-v0',\n",
       " 'dm_control/dog-run-v0',\n",
       " 'dm_control/dog-stand-v0',\n",
       " 'dm_control/dog-trot-v0',\n",
       " 'dm_control/dog-walk-v0',\n",
       " 'dm_control/finger-spin-v0',\n",
       " 'dm_control/finger-turn_easy-v0',\n",
       " 'dm_control/finger-turn_hard-v0',\n",
       " 'dm_control/fish-swim-v0',\n",
       " 'dm_control/fish-upright-v0',\n",
       " 'dm_control/hopper-hop-v0',\n",
       " 'dm_control/hopper-stand-v0',\n",
       " 'dm_control/humanoid-run-v0',\n",
       " 'dm_control/humanoid-run_pure_state-v0',\n",
       " 'dm_control/humanoid-stand-v0',\n",
       " 'dm_control/humanoid-walk-v0',\n",
       " 'dm_control/humanoid_CMU-run-v0',\n",
       " 'dm_control/humanoid_CMU-stand-v0',\n",
       " 'dm_control/lift_brick_features-v0',\n",
       " 'dm_control/lift_brick_vision-v0',\n",
       " 'dm_control/lift_large_box_features-v0',\n",
       " 'dm_control/lift_large_box_vision-v0',\n",
       " 'dm_control/lqr-lqr_2_1-v0',\n",
       " 'dm_control/lqr-lqr_6_2-v0',\n",
       " 'dm_control/manipulator-bring_ball-v0',\n",
       " 'dm_control/manipulator-bring_peg-v0',\n",
       " 'dm_control/manipulator-insert_ball-v0',\n",
       " 'dm_control/manipulator-insert_peg-v0',\n",
       " 'dm_control/pendulum-swingup-v0',\n",
       " 'dm_control/place_brick_features-v0',\n",
       " 'dm_control/place_brick_vision-v0',\n",
       " 'dm_control/place_cradle_features-v0',\n",
       " 'dm_control/place_cradle_vision-v0',\n",
       " 'dm_control/point_mass-easy-v0',\n",
       " 'dm_control/point_mass-hard-v0',\n",
       " 'dm_control/quadruped-escape-v0',\n",
       " 'dm_control/quadruped-fetch-v0',\n",
       " 'dm_control/quadruped-run-v0',\n",
       " 'dm_control/quadruped-walk-v0',\n",
       " 'dm_control/reach_duplo_features-v0',\n",
       " 'dm_control/reach_duplo_vision-v0',\n",
       " 'dm_control/reach_site_features-v0',\n",
       " 'dm_control/reach_site_vision-v0',\n",
       " 'dm_control/reacher-easy-v0',\n",
       " 'dm_control/reacher-hard-v0',\n",
       " 'dm_control/reassemble_3_bricks_fixed_order_features-v0',\n",
       " 'dm_control/reassemble_3_bricks_fixed_order_vision-v0',\n",
       " 'dm_control/reassemble_5_bricks_random_order_features-v0',\n",
       " 'dm_control/reassemble_5_bricks_random_order_vision-v0',\n",
       " 'dm_control/stack_2_bricks_features-v0',\n",
       " 'dm_control/stack_2_bricks_moveable_base_features-v0',\n",
       " 'dm_control/stack_2_bricks_moveable_base_vision-v0',\n",
       " 'dm_control/stack_2_bricks_vision-v0',\n",
       " 'dm_control/stack_2_of_3_bricks_random_order_features-v0',\n",
       " 'dm_control/stack_2_of_3_bricks_random_order_vision-v0',\n",
       " 'dm_control/stack_3_bricks_features-v0',\n",
       " 'dm_control/stack_3_bricks_random_order_features-v0',\n",
       " 'dm_control/stack_3_bricks_vision-v0',\n",
       " 'dm_control/stacker-stack_2-v0',\n",
       " 'dm_control/stacker-stack_4-v0',\n",
       " 'dm_control/swimmer-swimmer15-v0',\n",
       " 'dm_control/swimmer-swimmer6-v0',\n",
       " 'dm_control/walker-run-v0',\n",
       " 'dm_control/walker-stand-v0',\n",
       " 'dm_control/walker-walk-v0']"
      ]
     },
     "execution_count": 31,
     "metadata": {},
     "output_type": "execute_result"
    }
   ],
   "source": [
    "sorted(list(gym.envs.registry.keys()))"
   ]
  },
  {
   "cell_type": "code",
   "execution_count": 17,
   "metadata": {},
   "outputs": [
    {
     "name": "stderr",
     "output_type": "stream",
     "text": [
      "WARNING:jax._src.lib.xla_bridge:No GPU/TPU found, falling back to CPU. (Set TF_CPP_MIN_LOG_LEVEL=0 and rerun for more info.)\n"
     ]
    },
    {
     "ename": "ValueError",
     "evalue": "too many values to unpack (expected 4)",
     "output_type": "error",
     "traceback": [
      "\u001b[0;31m---------------------------------------------------------------------------\u001b[0m",
      "\u001b[0;31mValueError\u001b[0m                                Traceback (most recent call last)",
      "Cell \u001b[0;32mIn[17], line 1\u001b[0m\n\u001b[0;32m----> 1\u001b[0m obs, reward, done, info \u001b[39m=\u001b[39m gym_env\u001b[39m.\u001b[39;49mstep(action)\n",
      "File \u001b[0;32m~/anaconda3/envs/reinforcement_learning/lib/python3.10/site-packages/brax/envs/to_torch.py:59\u001b[0m, in \u001b[0;36mJaxToTorchWrapper.step\u001b[0;34m(self, action)\u001b[0m\n\u001b[1;32m     57\u001b[0m \u001b[39mdef\u001b[39;00m \u001b[39mstep\u001b[39m(\u001b[39mself\u001b[39m, action):\n\u001b[1;32m     58\u001b[0m   action \u001b[39m=\u001b[39m \u001b[39mself\u001b[39m\u001b[39m.\u001b[39maction(action)\n\u001b[0;32m---> 59\u001b[0m   obs, reward, done, info \u001b[39m=\u001b[39m \u001b[39msuper\u001b[39m()\u001b[39m.\u001b[39mstep(action)\n\u001b[1;32m     60\u001b[0m   obs \u001b[39m=\u001b[39m \u001b[39mself\u001b[39m\u001b[39m.\u001b[39mobservation(obs)\n\u001b[1;32m     61\u001b[0m   reward \u001b[39m=\u001b[39m \u001b[39mself\u001b[39m\u001b[39m.\u001b[39mreward(reward)\n",
      "\u001b[0;31mValueError\u001b[0m: too many values to unpack (expected 4)"
     ]
    }
   ],
   "source": [
    "obs, reward, done, info = gym_env.step(action)"
   ]
  }
 ],
 "metadata": {
  "kernelspec": {
   "display_name": "reinforcement_learning",
   "language": "python",
   "name": "python3"
  },
  "language_info": {
   "codemirror_mode": {
    "name": "ipython",
    "version": 3
   },
   "file_extension": ".py",
   "mimetype": "text/x-python",
   "name": "python",
   "nbconvert_exporter": "python",
   "pygments_lexer": "ipython3",
   "version": "3.10.8"
  },
  "orig_nbformat": 4,
  "vscode": {
   "interpreter": {
    "hash": "b329387e251b95764b8f65684563519503b45dc8027da482b0a7bdbaa4a30d3e"
   }
  }
 },
 "nbformat": 4,
 "nbformat_minor": 2
}
