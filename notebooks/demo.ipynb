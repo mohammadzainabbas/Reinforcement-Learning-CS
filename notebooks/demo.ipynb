{
  "cells": [
    {
      "attachments": {},
      "cell_type": "markdown",
      "metadata": {
        "id": "ssCOanHc8JH_"
      },
      "source": [
        "## Demo for Grasp: Pick-and-Place with a robotic hand"
      ]
    },
    {
      "cell_type": "code",
      "execution_count": null,
      "metadata": {
        "id": "_sOmCoOrF0F8"
      },
      "outputs": [],
      "source": [
        "#@title Install Brax and some helper modules\n",
        "#@markdown ## ⚠️ PLEASE NOTE:\n",
        "#@markdown This colab runs best using a TPU runtime.  From the Colab menu, choose Runtime > Change Runtime Type, then select **'TPU'** in the dropdown.\n",
        "\n",
        "from datetime import datetime\n",
        "import functools\n",
        "import os\n",
        "from os import getcwd\n",
        "from os.path import join\n",
        "from IPython.display import HTML, Image, clear_output\n",
        "\n",
        "import numpy as np\n",
        "import jax\n",
        "import jax.numpy as jnp\n",
        "import matplotlib.pyplot as plt\n",
        "\n",
        "try:\n",
        "  import brax\n",
        "except ImportError:\n",
        "  !pip install git+https://github.com/google/brax.git@main\n",
        "  clear_output()\n",
        "  import brax\n",
        "\n",
        "from brax import envs\n",
        "from brax import jumpy as jp\n",
        "from brax.io import html\n",
        "from brax.io import image\n",
        "from brax.io import model\n",
        "from brax.training.agents.ppo import train as ppo\n",
        "from brax.training.agents.es import train as es\n",
        "from brax.training.agents.ars import train as ars\n",
        "import torch\n",
        "\n",
        "from IPython.core.interactiveshell import InteractiveShell\n",
        "InteractiveShell.ast_node_interactivity = \"all\"\n",
        "\n",
        "if 'COLAB_TPU_ADDR' in os.environ:\n",
        "  from jax.tools import colab_tpu\n",
        "  colab_tpu.setup_tpu()"
      ]
    },
    {
      "attachments": {},
      "cell_type": "markdown",
      "metadata": {
        "id": "Tm8zbPBcJ5RJ"
      },
      "source": [
        "#### Setting up the environment"
      ]
    },
    {
      "cell_type": "code",
      "execution_count": null,
      "metadata": {
        "colab": {
          "base_uri": "https://localhost:8080/",
          "height": 480
        },
        "id": "NaJDZqhCLovU",
        "outputId": "50994b20-d788-4264-af00-a3f06d58f943"
      },
      "outputs": [],
      "source": [
        "# Set up some constants\n",
        "SEED = 0\n",
        "ENV_NAME = \"grasp\"\n",
        "VIS_ALGO = \"ppo\" # \"ppo\", \"es\", \"ars\"\n",
        "VIS_STEPS = int(1e3) # how often to render the environment\n",
        "\n",
        "# Create a Brax environment\n",
        "env_name = ENV_NAME\n",
        "env = envs.get_environment(env_name=env_name)\n",
        "state = env.reset(rng=jp.random_prngkey(seed=SEED))"
      ]
    },
    {
      "attachments": {},
      "cell_type": "markdown",
      "metadata": {},
      "source": [
        "### Details about the environment\n",
        "\n",
        "Source code for the env can be found [here](https://github.com/google/brax/blob/198dee3ac4/brax/envs/grasp.py)."
      ]
    },
    {
      "cell_type": "code",
      "execution_count": null,
      "metadata": {},
      "outputs": [],
      "source": [
        "HTML(html.render(env.sys, [state.qp]))"
      ]
    },
    {
      "attachments": {},
      "cell_type": "markdown",
      "metadata": {},
      "source": [
        "#### Initial state"
      ]
    },
    {
      "cell_type": "code",
      "execution_count": null,
      "metadata": {},
      "outputs": [],
      "source": [
        "env.sys.num_actuators\n",
        "env.sys.num_bodies\n",
        "env.sys.num_joints\n",
        "env.sys.num_joint_dof"
      ]
    },
    {
      "cell_type": "code",
      "execution_count": 49,
      "metadata": {},
      "outputs": [
        {
          "data": {
            "text/html": [
              "\n",
              "<html>\n",
              "  <head>\n",
              "    <title>brax visualizer</title>\n",
              "    <style>\n",
              "      body {\n",
              "        margin: 0;\n",
              "        padding: 0;\n",
              "      }\n",
              "      #brax-viewer {\n",
              "        margin: 0;\n",
              "        padding: 0;\n",
              "        height: 480px;\n",
              "      }\n",
              "    </style>\n",
              "  </head>\n",
              "  <body>\n",
              "    <script type=\"application/javascript\">\n",
              "    var system = {\"config\": {\"bodies\": [{\"name\": \"Ground\", \"colliders\": [{\"plane\": {}, \"material\": {\"friction\": 1.0, \"elasticity\": 0.0}, \"color\": \"\", \"hidden\": false, \"noContact\": false}], \"inertia\": {\"x\": 1.0, \"y\": 1.0, \"z\": 1.0}, \"mass\": 1.0, \"frozen\": {\"position\": {\"x\": 1.0, \"y\": 1.0, \"z\": 1.0}, \"rotation\": {\"x\": 1.0, \"y\": 1.0, \"z\": 1.0}, \"all\": true}}, {\"name\": \"Object\", \"colliders\": [{\"rotation\": {\"x\": 90.0, \"y\": 0.0, \"z\": 0.0}, \"capsule\": {\"radius\": 1.0, \"length\": 2.02, \"end\": 0}, \"material\": {\"friction\": 1.0, \"elasticity\": 0.0}, \"color\": \"\", \"hidden\": false, \"noContact\": false}], \"inertia\": {\"x\": 1.0, \"y\": 1.0, \"z\": 1.0}, \"mass\": 1.0, \"frozen\": {\"position\": {\"x\": 0.0, \"y\": 0.0, \"z\": 0.0}, \"rotation\": {\"x\": 0.0, \"y\": 0.0, \"z\": 0.0}, \"all\": false}}, {\"name\": \"HandThumbProximal\", \"colliders\": [{\"rotation\": {\"x\": 90.0, \"y\": 0.0, \"z\": 0.0}, \"capsule\": {\"radius\": 0.5, \"length\": 2.0, \"end\": 0}, \"material\": {\"friction\": 1.0, \"elasticity\": 0.0}, \"color\": \"\", \"hidden\": false, \"noContact\": false}], \"inertia\": {\"x\": 1.0, \"y\": 1.0, \"z\": 1.0}, \"mass\": 1.0, \"frozen\": {\"position\": {\"x\": 0.0, \"y\": 0.0, \"z\": 0.0}, \"rotation\": {\"x\": 0.0, \"y\": 0.0, \"z\": 0.0}, \"all\": false}}, {\"name\": \"HandThumbDistal\", \"colliders\": [{\"rotation\": {\"x\": 90.0, \"y\": 0.0, \"z\": 0.0}, \"capsule\": {\"radius\": 0.5, \"length\": 2.0, \"end\": 0}, \"material\": {\"friction\": 1.0, \"elasticity\": 0.0}, \"color\": \"\", \"hidden\": false, \"noContact\": false}], \"inertia\": {\"x\": 1.0, \"y\": 1.0, \"z\": 1.0}, \"mass\": 1.0, \"frozen\": {\"position\": {\"x\": 0.0, \"y\": 0.0, \"z\": 0.0}, \"rotation\": {\"x\": 0.0, \"y\": 0.0, \"z\": 0.0}, \"all\": false}}, {\"name\": \"HandThumbMiddle\", \"colliders\": [{\"rotation\": {\"x\": 90.0, \"y\": 0.0, \"z\": 0.0}, \"capsule\": {\"radius\": 0.5, \"length\": 2.0, \"end\": 0}, \"material\": {\"friction\": 1.0, \"elasticity\": 0.0}, \"color\": \"\", \"hidden\": false, \"noContact\": false}], \"inertia\": {\"x\": 1.0, \"y\": 1.0, \"z\": 1.0}, \"mass\": 1.0, \"frozen\": {\"position\": {\"x\": 0.0, \"y\": 0.0, \"z\": 0.0}, \"rotation\": {\"x\": 0.0, \"y\": 0.0, \"z\": 0.0}, \"all\": false}}, {\"name\": \"HandPalm\", \"colliders\": [{\"rotation\": {\"x\": 120.0, \"y\": 0.0, \"z\": 0.0}, \"capsule\": {\"radius\": 1.5, \"length\": 3.1, \"end\": 0}, \"material\": {\"friction\": 1.0, \"elasticity\": 0.0}, \"color\": \"\", \"hidden\": false, \"noContact\": false}], \"inertia\": {\"x\": 5000.035, \"y\": 10000.723, \"z\": 10000.723}, \"mass\": 1.0, \"frozen\": {\"position\": {\"x\": 1.0, \"y\": 1.0, \"z\": 1.0}, \"rotation\": {\"x\": 1.0, \"y\": 1.0, \"z\": 1.0}, \"all\": true}}, {\"name\": \"HandThumbProximalTwo\", \"colliders\": [{\"rotation\": {\"x\": 90.0, \"y\": 0.0, \"z\": 0.0}, \"capsule\": {\"radius\": 0.5, \"length\": 2.0, \"end\": 0}, \"material\": {\"friction\": 1.0, \"elasticity\": 0.0}, \"color\": \"\", \"hidden\": false, \"noContact\": false}], \"inertia\": {\"x\": 1.0, \"y\": 1.0, \"z\": 1.0}, \"mass\": 1.0, \"frozen\": {\"position\": {\"x\": 0.0, \"y\": 0.0, \"z\": 0.0}, \"rotation\": {\"x\": 0.0, \"y\": 0.0, \"z\": 0.0}, \"all\": false}}, {\"name\": \"HandThumbMiddleTwo\", \"colliders\": [{\"rotation\": {\"x\": 90.0, \"y\": 0.0, \"z\": 0.0}, \"capsule\": {\"radius\": 0.5, \"length\": 2.0, \"end\": 0}, \"material\": {\"friction\": 1.0, \"elasticity\": 0.0}, \"color\": \"\", \"hidden\": false, \"noContact\": false}], \"inertia\": {\"x\": 1.0, \"y\": 1.0, \"z\": 1.0}, \"mass\": 1.0, \"frozen\": {\"position\": {\"x\": 0.0, \"y\": 0.0, \"z\": 0.0}, \"rotation\": {\"x\": 0.0, \"y\": 0.0, \"z\": 0.0}, \"all\": false}}, {\"name\": \"HandThumbDistalTwo\", \"colliders\": [{\"rotation\": {\"x\": 90.0, \"y\": 0.0, \"z\": 0.0}, \"capsule\": {\"radius\": 0.5, \"length\": 2.0, \"end\": 0}, \"material\": {\"friction\": 1.0, \"elasticity\": 0.0}, \"color\": \"\", \"hidden\": false, \"noContact\": false}], \"inertia\": {\"x\": 1.0, \"y\": 1.0, \"z\": 1.0}, \"mass\": 1.0, \"frozen\": {\"position\": {\"x\": 0.0, \"y\": 0.0, \"z\": 0.0}, \"rotation\": {\"x\": 0.0, \"y\": 0.0, \"z\": 0.0}, \"all\": false}}, {\"name\": \"HandThumbProximalThree\", \"colliders\": [{\"rotation\": {\"y\": 90.0, \"x\": 0.0, \"z\": 0.0}, \"capsule\": {\"radius\": 0.5, \"length\": 2.0, \"end\": 0}, \"material\": {\"friction\": 1.0, \"elasticity\": 0.0}, \"color\": \"\", \"hidden\": false, \"noContact\": false}], \"inertia\": {\"x\": 1.0, \"y\": 1.0, \"z\": 1.0}, \"mass\": 1.0, \"frozen\": {\"position\": {\"x\": 0.0, \"y\": 0.0, \"z\": 0.0}, \"rotation\": {\"x\": 0.0, \"y\": 0.0, \"z\": 0.0}, \"all\": false}}, {\"name\": \"HandThumbMiddleThree\", \"colliders\": [{\"rotation\": {\"y\": 90.0, \"x\": 0.0, \"z\": 0.0}, \"capsule\": {\"radius\": 0.5, \"length\": 2.0, \"end\": 0}, \"material\": {\"friction\": 1.0, \"elasticity\": 0.0}, \"color\": \"\", \"hidden\": false, \"noContact\": false}], \"inertia\": {\"x\": 1.0, \"y\": 1.0, \"z\": 1.0}, \"mass\": 1.0, \"frozen\": {\"position\": {\"x\": 0.0, \"y\": 0.0, \"z\": 0.0}, \"rotation\": {\"x\": 0.0, \"y\": 0.0, \"z\": 0.0}, \"all\": false}}, {\"name\": \"HandThumbDistalThree\", \"colliders\": [{\"rotation\": {\"y\": 90.0, \"x\": 0.0, \"z\": 0.0}, \"capsule\": {\"radius\": 0.5, \"length\": 2.0, \"end\": 0}, \"material\": {\"friction\": 1.0, \"elasticity\": 0.0}, \"color\": \"\", \"hidden\": false, \"noContact\": false}], \"inertia\": {\"x\": 1.0, \"y\": 1.0, \"z\": 1.0}, \"mass\": 1.0, \"frozen\": {\"position\": {\"x\": 0.0, \"y\": 0.0, \"z\": 0.0}, \"rotation\": {\"x\": 0.0, \"y\": 0.0, \"z\": 0.0}, \"all\": false}}, {\"name\": \"HandThumbProximalFour\", \"colliders\": [{\"rotation\": {\"y\": 90.0, \"x\": 0.0, \"z\": 0.0}, \"capsule\": {\"radius\": 0.5, \"length\": 2.0, \"end\": 0}, \"material\": {\"friction\": 1.0, \"elasticity\": 0.0}, \"color\": \"\", \"hidden\": false, \"noContact\": false}], \"inertia\": {\"x\": 1.0, \"y\": 1.0, \"z\": 1.0}, \"mass\": 1.0, \"frozen\": {\"position\": {\"x\": 0.0, \"y\": 0.0, \"z\": 0.0}, \"rotation\": {\"x\": 0.0, \"y\": 0.0, \"z\": 0.0}, \"all\": false}}, {\"name\": \"HandThumbMiddleFour\", \"colliders\": [{\"rotation\": {\"y\": 90.0, \"x\": 0.0, \"z\": 0.0}, \"capsule\": {\"radius\": 0.5, \"length\": 2.0, \"end\": 0}, \"material\": {\"friction\": 1.0, \"elasticity\": 0.0}, \"color\": \"\", \"hidden\": false, \"noContact\": false}], \"inertia\": {\"x\": 1.0, \"y\": 1.0, \"z\": 1.0}, \"mass\": 1.0, \"frozen\": {\"position\": {\"x\": 0.0, \"y\": 0.0, \"z\": 0.0}, \"rotation\": {\"x\": 0.0, \"y\": 0.0, \"z\": 0.0}, \"all\": false}}, {\"name\": \"HandThumbDistalFour\", \"colliders\": [{\"rotation\": {\"y\": 90.0, \"x\": 0.0, \"z\": 0.0}, \"capsule\": {\"radius\": 0.5, \"length\": 2.0, \"end\": 0}, \"material\": {\"friction\": 1.0, \"elasticity\": 0.0}, \"color\": \"\", \"hidden\": false, \"noContact\": false}], \"inertia\": {\"x\": 1.0, \"y\": 1.0, \"z\": 1.0}, \"mass\": 1.0, \"frozen\": {\"position\": {\"x\": 0.0, \"y\": 0.0, \"z\": 0.0}, \"rotation\": {\"x\": 0.0, \"y\": 0.0, \"z\": 0.0}, \"all\": false}}, {\"name\": \"Target\", \"colliders\": [{\"sphere\": {\"radius\": 1.1}, \"material\": {\"friction\": 1.0, \"elasticity\": 0.0}, \"color\": \"\", \"hidden\": false, \"noContact\": false}], \"inertia\": {\"x\": 1.0, \"y\": 1.0, \"z\": 1.0}, \"frozen\": {\"position\": {\"x\": 1.0, \"y\": 1.0, \"z\": 1.0}, \"rotation\": {\"x\": 1.0, \"y\": 1.0, \"z\": 1.0}, \"all\": true}, \"mass\": 0.0}], \"joints\": [{\"name\": \"HandThumbMiddle_HandThumbDistal\", \"parent\": \"HandThumbMiddle\", \"child\": \"HandThumbDistal\", \"parentOffset\": {\"y\": 0.75, \"x\": 0.0, \"z\": 0.0}, \"childOffset\": {\"y\": -0.75, \"x\": 0.0, \"z\": 0.0}, \"angularDamping\": 50.0, \"angleLimit\": [{\"min\": -90.0, \"max\": 0.0}, {\"min\": -0.1, \"max\": 0.1}, {\"min\": -0.1, \"max\": 0.1}], \"stiffness\": 0.0}, {\"name\": \"HandThumbProximal_HandThumbMiddle\", \"parent\": \"HandThumbProximal\", \"child\": \"HandThumbMiddle\", \"parentOffset\": {\"y\": 0.75, \"x\": 0.0, \"z\": 0.0}, \"childOffset\": {\"y\": -0.75, \"x\": 0.0, \"z\": 0.0}, \"angularDamping\": 50.0, \"angleLimit\": [{\"min\": -90.0, \"max\": 0.0}, {\"min\": -0.1, \"max\": 0.1}, {\"min\": -0.1, \"max\": 0.1}], \"stiffness\": 0.0}, {\"name\": \"HandPalm_HandThumbProximal\", \"parent\": \"HandPalm\", \"child\": \"HandThumbProximal\", \"parentOffset\": {\"y\": 1.5, \"z\": -0.5, \"x\": 0.0}, \"childOffset\": {\"y\": -0.75, \"x\": 0.0, \"z\": 0.0}, \"angularDamping\": 50.0, \"angleLimit\": [{\"min\": -45.0, \"max\": 45.0}, {\"min\": -45.0, \"max\": 45.0}, {\"min\": -0.1, \"max\": 0.1}], \"stiffness\": 0.0}, {\"name\": \"HandThumbMiddleTwo_HandThumbDistalTwo\", \"parent\": \"HandThumbMiddleTwo\", \"child\": \"HandThumbDistalTwo\", \"parentOffset\": {\"y\": -0.75, \"x\": 0.0, \"z\": 0.0}, \"childOffset\": {\"y\": 0.75, \"x\": 0.0, \"z\": 0.0}, \"angularDamping\": 50.0, \"angleLimit\": [{\"max\": 90.0, \"min\": 0.0}, {\"min\": -0.1, \"max\": 0.1}, {\"min\": -0.1, \"max\": 0.1}], \"stiffness\": 0.0}, {\"name\": \"HandThumbProximalTwo_HandThumbMiddleTwo\", \"parent\": \"HandThumbProximalTwo\", \"child\": \"HandThumbMiddleTwo\", \"parentOffset\": {\"y\": -0.75, \"x\": 0.0, \"z\": 0.0}, \"childOffset\": {\"y\": 0.75, \"x\": 0.0, \"z\": 0.0}, \"angularDamping\": 50.0, \"angleLimit\": [{\"max\": 90.0, \"min\": 0.0}, {\"min\": -0.1, \"max\": 0.1}, {\"min\": -0.1, \"max\": 0.1}], \"stiffness\": 0.0}, {\"name\": \"HandPalm_HandThumbProximalTwo\", \"parent\": \"HandPalm\", \"child\": \"HandThumbProximalTwo\", \"parentOffset\": {\"y\": -1.5, \"z\": -0.5, \"x\": 0.0}, \"childOffset\": {\"y\": 0.75, \"x\": 0.0, \"z\": 0.0}, \"angularDamping\": 50.0, \"angleLimit\": [{\"min\": -45.0, \"max\": 45.0}, {\"min\": -45.0, \"max\": 45.0}, {\"min\": -0.1, \"max\": 0.1}], \"stiffness\": 0.0}, {\"name\": \"HandThumbMiddleThree_HandThumbDistalThree\", \"parent\": \"HandThumbMiddleThree\", \"child\": \"HandThumbDistalThree\", \"parentOffset\": {\"x\": -0.75, \"y\": 0.0, \"z\": 0.0}, \"childOffset\": {\"x\": 0.75, \"y\": 0.0, \"z\": 0.0}, \"rotation\": {\"z\": -90.0, \"x\": 0.0, \"y\": 0.0}, \"angularDamping\": 50.0, \"angleLimit\": [{\"max\": 90.0, \"min\": 0.0}, {\"min\": -0.1, \"max\": 0.1}, {\"min\": -0.1, \"max\": 0.1}], \"stiffness\": 0.0}, {\"name\": \"HandThumbProximalThree_HandThumbMiddleThree\", \"parent\": \"HandThumbProximalThree\", \"child\": \"HandThumbMiddleThree\", \"parentOffset\": {\"x\": -0.75, \"y\": 0.0, \"z\": 0.0}, \"childOffset\": {\"x\": 0.75, \"y\": 0.0, \"z\": 0.0}, \"rotation\": {\"z\": -90.0, \"x\": 0.0, \"y\": 0.0}, \"angularDamping\": 50.0, \"angleLimit\": [{\"max\": 90.0, \"min\": 0.0}, {\"min\": -0.1, \"max\": 0.1}, {\"min\": -0.1, \"max\": 0.1}], \"stiffness\": 0.0}, {\"name\": \"HandPalm_HandThumbProximalThree\", \"parent\": \"HandPalm\", \"child\": \"HandThumbProximalThree\", \"parentOffset\": {\"x\": -1.5, \"z\": -0.5, \"y\": 0.0}, \"childOffset\": {\"x\": 0.75, \"y\": 0.0, \"z\": 0.0}, \"rotation\": {\"z\": -90.0, \"x\": 0.0, \"y\": 0.0}, \"angularDamping\": 50.0, \"angleLimit\": [{\"min\": -45.0, \"max\": 45.0}, {\"min\": -45.0, \"max\": 45.0}, {\"min\": -0.1, \"max\": 0.1}], \"stiffness\": 0.0}, {\"name\": \"HandThumbMiddleFour_HandThumbDistalFour\", \"parent\": \"HandThumbMiddleFour\", \"child\": \"HandThumbDistalFour\", \"parentOffset\": {\"x\": 0.75, \"y\": 0.0, \"z\": 0.0}, \"childOffset\": {\"x\": -0.75, \"y\": 0.0, \"z\": 0.0}, \"rotation\": {\"z\": 90.0, \"x\": 0.0, \"y\": 0.0}, \"angularDamping\": 50.0, \"angleLimit\": [{\"max\": 90.0, \"min\": 0.0}, {\"min\": -0.1, \"max\": 0.1}, {\"min\": -0.1, \"max\": 0.1}], \"stiffness\": 0.0}, {\"name\": \"HandThumbProximalFour_HandThumbMiddleFour\", \"parent\": \"HandThumbProximalFour\", \"child\": \"HandThumbMiddleFour\", \"parentOffset\": {\"x\": 0.75, \"y\": 0.0, \"z\": 0.0}, \"childOffset\": {\"x\": -0.75, \"y\": 0.0, \"z\": 0.0}, \"rotation\": {\"z\": 90.0, \"x\": 0.0, \"y\": 0.0}, \"angularDamping\": 50.0, \"angleLimit\": [{\"max\": 90.0, \"min\": 0.0}, {\"min\": -0.1, \"max\": 0.1}, {\"min\": -0.1, \"max\": 0.1}], \"stiffness\": 0.0}, {\"name\": \"HandPalm_HandThumbProximalFour\", \"parent\": \"HandPalm\", \"child\": \"HandThumbProximalFour\", \"parentOffset\": {\"x\": 1.5, \"z\": -0.5, \"y\": 0.0}, \"childOffset\": {\"x\": -0.75, \"y\": 0.0, \"z\": 0.0}, \"rotation\": {\"x\": 180.0, \"z\": -90.0, \"y\": 0.0}, \"angularDamping\": 50.0, \"angleLimit\": [{\"min\": -45.0, \"max\": 45.0}, {\"min\": -45.0, \"max\": 45.0}, {\"min\": -0.1, \"max\": 0.1}], \"stiffness\": 0.0}], \"actuators\": [{\"name\": \"HandThumbMiddle_HandThumbDistal\", \"joint\": \"HandThumbMiddle_HandThumbDistal\", \"strength\": 300.0, \"angle\": {}}, {\"name\": \"HandThumbProximal_HandThumbMiddle\", \"joint\": \"HandThumbProximal_HandThumbMiddle\", \"strength\": 300.0, \"angle\": {}}, {\"name\": \"HandPalm_HandThumbProximal\", \"joint\": \"HandPalm_HandThumbProximal\", \"strength\": 300.0, \"angle\": {}}, {\"name\": \"HandThumbMiddleTwo_HandThumbDistalTwo\", \"joint\": \"HandThumbMiddleTwo_HandThumbDistalTwo\", \"strength\": 300.0, \"angle\": {}}, {\"name\": \"HandThumbProximalTwo_HandThumbMiddleTwo\", \"joint\": \"HandThumbProximalTwo_HandThumbMiddleTwo\", \"strength\": 300.0, \"angle\": {}}, {\"name\": \"HandPalm_HandThumbProximalTwo\", \"joint\": \"HandPalm_HandThumbProximalTwo\", \"strength\": 300.0, \"angle\": {}}, {\"name\": \"HandThumbMiddleThree_HandThumbDistalThree\", \"joint\": \"HandThumbMiddleThree_HandThumbDistalThree\", \"strength\": 300.0, \"angle\": {}}, {\"name\": \"HandThumbProximalThree_HandThumbMiddleThree\", \"joint\": \"HandThumbProximalThree_HandThumbMiddleThree\", \"strength\": 300.0, \"angle\": {}}, {\"name\": \"HandPalm_HandThumbProximalThree\", \"joint\": \"HandPalm_HandThumbProximalThree\", \"strength\": 300.0, \"angle\": {}}, {\"name\": \"HandThumbMiddleFour_HandThumbDistalFour\", \"joint\": \"HandThumbMiddleFour_HandThumbDistalFour\", \"strength\": 300.0, \"angle\": {}}, {\"name\": \"HandThumbProximalFour_HandThumbMiddleFour\", \"joint\": \"HandThumbProximalFour_HandThumbMiddleFour\", \"strength\": 300.0, \"angle\": {}}, {\"name\": \"HandPalm_HandThumbProximalFour\", \"joint\": \"HandPalm_HandThumbProximalFour\", \"strength\": 300.0, \"angle\": {}}], \"friction\": 1.0, \"gravity\": {\"z\": -9.8, \"x\": 0.0, \"y\": 0.0}, \"angularDamping\": -0.05, \"collideInclude\": [{\"first\": \"Ground\", \"second\": \"Object\"}, {\"first\": \"HandThumbDistal\", \"second\": \"Object\"}, {\"first\": \"HandThumbDistalTwo\", \"second\": \"Object\"}, {\"first\": \"HandThumbDistalThree\", \"second\": \"Object\"}, {\"first\": \"HandThumbDistalFour\", \"second\": \"Object\"}, {\"first\": \"HandPalm\", \"second\": \"Object\"}], \"dt\": 0.02, \"substeps\": 4, \"frozen\": {\"all\": false}, \"dynamicsMode\": \"pbd\", \"solverScaleCollide\": 1.0, \"forces\": [], \"elasticity\": 0.0, \"velocityDamping\": 0.0, \"baumgarteErp\": 0.0, \"defaults\": [], \"colliderCutoff\": 0, \"meshGeometries\": []}, \"pos\": [[[0.0, 0.0, 0.0], [-0.03690546751022339, 0.021275190636515617, 0.9999605417251587], [0.22120971977710724, 2.1519641876220703, 2.8556478023529053], [0.0037757218815386295, 4.043909549713135, 1.0009461641311646], [0.08463256806135178, 3.461925983428955, 2.2928364276885986], [0.26910269260406494, -0.11677878350019455, 3.373481035232544], [0.2237694412469864, -2.3516061305999756, 2.857938051223755], [0.08104832470417023, -3.5802688598632812, 2.2851386070251465], [-0.00044049127609468997, -4.077574253082275, 0.9941063523292542], [-2.01025652885437, -0.09807991981506348, 2.8427298069000244], [-3.3745224475860596, -0.040755148977041245, 2.303389310836792], [-4.01192569732666, -0.002657300792634487, 1.0265467166900635], [2.4897022247314453, -0.09707269072532654, 2.8612585067749023], [3.6898975372314453, -0.03772789239883423, 2.277782917022705], [4.101981163024902, -0.0032153185456991196, 0.990875780582428], [1.9576069116592407, -0.13704568147659302, 5.992164611816406]], [[0.0, 0.0, 0.0], [-0.06970276683568954, 0.04008416086435318, 0.9999999403953552], [0.3506344258785248, 1.966333270072937, 3.007946252822876], [0.06325270980596542, 3.9311792850494385, 1.070074439048767], [0.2279152125120163, 3.267282485961914, 2.3530731201171875], [0.36108845472335815, -0.28597429394721985, 3.603506088256836], [0.35359901189804077, -2.5544114112854004, 3.0392425060272217], [0.21645508706569672, -3.739095449447632, 2.323338508605957], [0.03810545802116394, -4.121986389160156, 0.9699685573577881], [-1.8442789316177368, -0.2595879137516022, 3.0104987621307373], [-3.1317787170410156, -0.14048893749713898, 2.391704797744751], [-3.827213764190674, -0.029369497671723366, 1.1487926244735718], [2.681952476501465, -0.25233325362205505, 3.0337038040161133], [3.9069833755493164, -0.1295660436153412, 2.3031623363494873], [4.22987699508667, -0.03262582793831825, 0.9309068322181702], [1.9576069116592407, -0.13704568147659302, 5.992164611816406]], [[0.0, 0.0, 0.0], [-0.10225476324558258, 0.05880517140030861, 0.9999999403953552], [0.3559025526046753, 2.123769998550415, 3.0836832523345947], [0.14776304364204407, 3.8036978244781494, 1.1793428659439087], [0.3069418668746948, 3.261488437652588, 2.407843828201294], [0.32686829566955566, -0.007866322994232178, 3.7106738090515137], [0.3504025638103485, -2.348036766052246, 3.0822062492370605], [0.28877222537994385, -3.6652204990386963, 2.365046501159668], [0.10370660573244095, -4.1060686111450195, 1.0125972032546997], [-1.826979160308838, -0.06984961777925491, 3.132753372192383], [-3.012979745864868, -0.14568528532981873, 2.515289783477783], [-3.6509451866149902, -0.08880964666604996, 1.270603060722351], [2.667480230331421, -0.06934277713298798, 3.083804130554199], [3.927248954772949, -0.1345519721508026, 2.3331968784332275], [4.278932094573975, -0.08559230715036392, 0.9630776047706604], [1.9576069116592407, -0.13704568147659302, 5.992164611816406]], [[0.0, 0.0, 0.0], [-0.1347905546426773, 0.07750145345926285, 1.0005837678909302], [0.5399392247200012, 2.4084584712982178, 3.1639816761016846], [0.20128735899925232, 3.895026683807373, 1.0788120031356812], [0.40475067496299744, 3.5316638946533203, 2.4130170345306396], [0.541545569896698, 0.19332361221313477, 3.769293785095215], [0.5182275772094727, -2.026172161102295, 3.125551462173462], [0.3843159079551697, -3.322601079940796, 2.476649761199951], [0.19044427573680878, -3.890923261642456, 1.1998497247695923], [-1.6809386014938354, 0.14420963823795319, 3.2281596660614014], [-2.9498605728149414, -0.00902370736002922, 2.6193323135375977], [-3.5679666996002197, -0.10877922177314758, 1.3159741163253784], [2.7490029335021973, 0.13789772987365723, 3.128859043121338], [3.8935885429382324, -0.013426325283944607, 2.3920154571533203], [4.244171619415283, -0.07480122148990631, 1.0586254596710205], [1.9576069116592407, -0.13704568147659302, 5.992164611816406]], [[0.0, 0.0, 0.0], [-0.1673365980386734, 0.09617812186479568, 1.000784158706665], [0.5007690191268921, 2.789801597595215, 3.206594944000244], [0.2750012278556824, 4.056587219238281, 0.9432091116905212], [0.46914607286453247, 3.895047187805176, 2.3408796787261963], [0.4633808135986328, 0.46059319376945496, 3.880905866622925], [0.4872175455093384, -1.6748517751693726, 3.2587337493896484], [0.4717346429824829, -2.9369609355926514, 2.645549774169922], [0.32193922996520996, -3.5999622344970703, 1.4367306232452393], [-1.7435100078582764, 0.42423129081726074, 3.318817615509033], [-2.9301602840423584, 0.18723607063293457, 2.6881792545318604], [-3.4571573734283447, -0.07235737890005112, 1.4058637619018555], [2.7016549110412598, 0.4158473014831543, 3.2414960861206055], [3.8828587532043457, 0.18139344453811646, 2.4761345386505127], [4.253443717956543, -0.018200920894742012, 1.1204628944396973], [1.9576069116592407, -0.13704568147659302, 5.992164611816406]]], \"rot\": [[[1.0, 0.0, 0.0, 0.0], [0.999992043011603, -0.0012671750110227302, -0.003780564935624734, -0.00012453810324942877], [0.9992093530070161, -0.017355387412493435, 0.005982607422575538, 0.03526567452197838], [0.7202360677372972, -0.6935111132253333, -0.006449591229697008, 0.016147610852511186], [0.9245506000572034, -0.3787719119864859, -0.000848167092166563, 0.04168101770051778], [1.0, 0.0, 0.0, 0.0], [0.9988743270872451, 0.024994540570825688, 0.017259396902679802, -0.036434390981771446], [0.9154721045494766, 0.4000353134403929, 0.0030110532544797824, -0.04328403112809321], [0.7099738688732691, 0.7040174765824501, -0.006175317225304384, -0.016073694061052506], [0.9997695900975386, 0.005125622932763548, -0.015244696739510089, -0.014215974362348375], [0.9369938175368863, 0.0008345149949118796, -0.34882997690842515, -0.018961452804124278], [0.7206769159539178, -0.0028129650877141955, -0.6932178791258302, -0.008114314441217404], [0.9994055965691039, -0.005704362346956761, 0.02915305124780216, 0.017493238679874894], [0.9097533630877025, -0.0037889452180050404, 0.41462941351581994, 0.02041841551828187], [0.6870870537770442, -0.004050854509446783, 0.7265217483040213, 0.007817950562202847], [1.0, 0.0, 0.0, 0.0]], [[1.0, 0.0, 0.0, 0.0], [0.9997450205617198, -0.01059278760288245, -0.019940926965614652, -0.00021481293922885863], [0.9961441055898416, -0.0841445182236445, 0.017336926819645743, 0.017777849138056266], [0.7546278135396406, -0.6524098221972864, -0.010758092781288371, 0.06915598580452435], [0.92610394962142, -0.3724960506753851, 0.011488943666317855, 0.05870409611159677], [1.0, 0.0, 0.0, 0.0], [0.9958917201493297, 0.08091953745857774, 0.036868649029118704, -0.017100085212268593], [0.8890377026684414, 0.4523821231944658, 0.02269301862640647, -0.06668886529030742], [0.6808116074481676, 0.7285372477635288, -0.0076192514709516575, -0.07530591472126975], [0.9964855054749068, 0.007906318563773232, -0.07967264594238464, -0.0246251293139159], [0.9342945082774116, 0.005524477103981978, -0.3535544961585199, -0.04541442723950945], [0.7656630089341899, -0.006622499836900798, -0.642087153800505, -0.037952419819026514], [0.9969034820174982, 0.01453808724702973, 0.0728981372294763, 0.025650597440566275], [0.8889267347955769, 0.003335809448591864, 0.4554213062844507, 0.048883190599237375], [0.6433047663434507, -0.013676827185623611, 0.7645382774575809, 0.03812012985455444], [1.0, 0.0, 0.0, 0.0]], [[1.0, 0.0, 0.0, 0.0], [0.9991455963078781, -0.019938545366937475, -0.036199980607488864, -0.0003052724074858727], [0.9914201466060019, -0.12438860314682063, 0.038732407358562114, -0.010647484732418683], [0.751413879223695, -0.6554152982329394, 0.0070495587369505805, 0.07588328323049617], [0.9137322235253516, -0.40313991820597067, 0.031259762411435785, 0.039930656071255934], [1.0, 0.0, 0.0, 0.0], [0.9966421559281122, 0.07139263164782624, 0.03915863358041088, 0.008608518425235795], [0.9066535619814219, 0.4181108030558175, 0.04241691908198096, -0.03692532857012894], [0.6597953109717591, 0.7465878319411711, 0.016390427565586705, -0.0837144593321751], [0.9964178289427397, 0.008533732207435748, -0.07563883890936804, 0.03684361041065215], [0.9212109631172644, 0.0127905367958168, -0.38885026128088135, 0.0014959621743500407], [0.7735728383906809, 0.0025369837116960715, -0.6319064542429826, -0.04767452678206208], [0.9958872970257646, 0.03524495421057993, 0.07628711737012556, -0.033860899999368824], [0.8904804338474948, 0.025399468115736092, 0.45431063895496554, -0.0011433663220517863], [0.647754639519571, 0.0024454993783565113, 0.7603526605647, 0.04766317326661558], [1.0, 0.0, 0.0, 0.0]], [[1.0, 0.0, 0.0, 0.0], [0.9981953704583444, -0.02926014278956053, -0.05243748292546376, -0.00039600998100246254], [0.9918743235905871, -0.1144404526728121, 0.053825739857893906, 0.01383830634533517], [0.69070950203585, -0.7199547765550753, 0.036617204273406, 0.05696212657651987], [0.8810943612865946, -0.46748333023438543, 0.051739094645500486, 0.0495492537501853], [1.0, 0.0, 0.0, 0.0], [0.9956186437689171, 0.07682078654955252, 0.050351975101756395, -0.01751460924492812], [0.9268138293493741, 0.36960393343115244, 0.05273190567792786, -0.04035349108247959], [0.7075720584107836, 0.7035864408268717, 0.04225632770617238, -0.050222556781690436], [0.9983963513810077, 0.006959034363354914, -0.04088357818495421, 0.03853349743555259], [0.918017205545748, 0.012817528705286659, -0.3920164741107638, 0.05833699774268304], [0.7454561965516456, 0.025228814604889706, -0.6651813190577204, 0.0345308371317192], [0.993647467628056, 0.022695045045285196, 0.09991454518681167, -0.04654813279666893], [0.8929724227020989, 0.029407164663160516, 0.4447012148069098, -0.06305791393058048], [0.669758607098115, 0.041756465679368325, 0.7407674469438099, -0.030714741416954204], [1.0, 0.0, 0.0, 0.0]], [[1.0, 0.0, 0.0, 0.0], [0.996896492396127, -0.0385543538631084, -0.06863460059078626, -0.00048667056627914605], [0.9899765752992019, -0.1271656174742249, 0.056578709130067024, -0.02396113028297685], [0.6203060025716609, -0.7800879816273053, 0.06026231451747022, 0.055241809738648714], [0.8451906347243366, -0.5299606506890239, 0.06749677806629355, 0.015449422196597595], [1.0, 0.0, 0.0, 0.0], [0.9935022811544156, 0.10340856158647116, 0.04432084991705224, 0.017191538448304226], [0.9397052367412119, 0.33653197191556705, 0.06039463088648723, -0.007265568102219238], [0.7441211926925757, 0.6640358791364701, 0.057284340162644505, -0.045370763464639384], [0.9967000117446746, -0.009029253847519002, -0.0642766353039828, 0.048744982481495815], [0.9065487587362242, 0.001718647953981412, -0.4068949270429769, 0.11226269473744072], [0.7378607248720485, 0.035160906469066215, -0.6642393064909031, 0.11450504381927011], [0.9925782981890928, 0.008322421162312054, 0.10958349375735542, -0.052062627344125006], [0.8899638929791098, 0.018619576621814692, 0.4414940135675161, -0.11269701213403097], [0.6651680565463285, 0.06102006171013846, 0.7360915866118957, -0.10953166089516399], [1.0, 0.0, 0.0, 0.0]]], \"debug\": false};\n",
              "    </script>\n",
              "    <div id=\"brax-viewer\"></div>\n",
              "    <script type=\"module\">\n",
              "      import {Viewer} from 'https://cdn.jsdelivr.net/gh/google/brax@v0.1.0/js/viewer.js';\n",
              "      const domElement = document.getElementById('brax-viewer');\n",
              "      var viewer = new Viewer(domElement, system);\n",
              "    </script>\n",
              "  </body>\n",
              "</html>\n"
            ],
            "text/plain": [
              "<IPython.core.display.HTML object>"
            ]
          },
          "execution_count": 49,
          "metadata": {},
          "output_type": "execute_result"
        }
      ],
      "source": [
        "rollout = []\n",
        "rng = jax.random.PRNGKey(seed=SEED)\n",
        "state = env.reset(rng=rng)\n",
        "for _ in range(10):\n",
        "  action = np.random.uniform(-1, 1, size=(env.action_size,))\n",
        "  # action = jp.sin(i * jp.pi / 15 + jp.arange(0, env.action_size) * jp.pi)\n",
        "  state = env.step(state, action)\n",
        "  rollout.append(state)\n",
        "HTML(html.render(env.sys, [s.qp for s in rollout]))"
      ]
    },
    {
      "attachments": {},
      "cell_type": "markdown",
      "metadata": {},
      "source": [
        "### Objectives\n",
        "\n",
        "1. Grasp trains an agent to pick up an object. Grasp observes three bodies: `Hand`, `Object`, and `Target`. When `Object` reaches `Target`, the agent is rewarded.\n",
        "2. The `reward function` is determined by the following factors: moving towards the object, being close to the object, touching the object, hitting the target and moving towards the target.\n",
        "\n",
        "$$\n",
        "\\begin{align}\n",
        "reward &= moving\\ to\\ object + close\\ to\\ object + touching\\ object + 5 * target\\ hit + moving\\ to\\ target \\nonumber \\\\\n",
        "\\text{}  &\\nonumber \\\\\n",
        "\n",
        "reward &: \\text{final reward achieved.}  \\nonumber \\\\\n",
        "moving\\ to\\ object &: \\text{small reward for moving towards the object.} \\nonumber \\\\\n",
        "close\\ to\\ object &: \\text{small reward for being close to the object.} \\nonumber \\\\\n",
        "touching\\ object &: \\text{small reward for touching the object.} \\nonumber \\\\\n",
        "target\\ hit &: \\text{high reward for hitting the target (max. reward).} \\nonumber \\\\\n",
        "moving\\ to\\ target &: \\text{high reward for moving towards the target.} \\nonumber\n",
        "\\end{align}\n",
        "$$\n"
      ]
    },
    {
      "attachments": {},
      "cell_type": "markdown",
      "metadata": {
        "id": "25iky4mITUhh"
      },
      "source": [
        "### Training the agent\n",
        "\n",
        "We will used the following training algorithms to train our RL agent:\n",
        "\n",
        "1. `Proximal policy optimization (PPO)`\n",
        "2. `Evolution Strategy (ES)`\n",
        "3. `Augmented Random Search (ARS)`\n",
        "\n",
        "#\n"
      ]
    },
    {
      "attachments": {},
      "cell_type": "markdown",
      "metadata": {},
      "source": [
        "#### 1. Proximal policy optimization (PPO)"
      ]
    },
    {
      "cell_type": "code",
      "execution_count": null,
      "metadata": {},
      "outputs": [],
      "source": [
        "ppo_train_fn = functools.partial(ppo.train, num_timesteps=600_000_000, num_evals=10, reward_scaling=10, episode_length=1000, normalize_observations=True, action_repeat=1, unroll_length=20, num_minibatches=32, num_updates_per_batch=2, discounting=0.99, learning_rate=3e-4, entropy_cost=0.001, num_envs=2048, batch_size=256)\n",
        "\n",
        "max_y = 100\n",
        "min_y = 0\n",
        "\n",
        "ppo_xdata, ppo_ydata = [], []\n",
        "ppo_times = [datetime.now()]\n",
        "\n",
        "def ppo_progress(num_steps, metrics):\n",
        "  ppo_times.append(datetime.now())\n",
        "  ppo_xdata.append(num_steps)\n",
        "  ppo_ydata.append(metrics['eval/episode_reward'])\n",
        "  clear_output(wait=True)\n",
        "  plt.xlim([0, ppo_train_fn.keywords['num_timesteps']])\n",
        "  plt.ylim([min_y, max_y])\n",
        "  plt.xlabel('# environment steps')\n",
        "  plt.ylabel('reward per episode')\n",
        "  plt.plot(ppo_xdata, ppo_ydata)\n",
        "  plt.show()\n",
        "\n",
        "ppo_make_inference_fn, ppo_params, _ = ppo_train_fn(environment=env, progress_fn=ppo_progress)\n",
        "\n",
        "print(f'for \"PPO\": time to jit: {ppo_times[1] - ppo_times[0]}')\n",
        "print(f'for \"PPO\": time to train: {ppo_times[-1] - ppo_times[1]}')"
      ]
    },
    {
      "attachments": {},
      "cell_type": "markdown",
      "metadata": {},
      "source": [
        "#### 2. Evolution Strategy (ES)"
      ]
    },
    {
      "cell_type": "code",
      "execution_count": null,
      "metadata": {},
      "outputs": [],
      "source": [
        "es_train_fn = functools.partial(es.train, num_timesteps=600_000_000, num_evals=10, episode_length=1000, normalize_observations=True, action_repeat=1, learning_rate=3e-4, population_size=1024)\n",
        "\n",
        "max_y = 100\n",
        "min_y = 0\n",
        "\n",
        "es_xdata, es_ydata = [], []\n",
        "es_times = [datetime.now()]\n",
        "\n",
        "def es_progress(num_steps, metrics):\n",
        "  es_times.append(datetime.now())\n",
        "  es_xdata.append(num_steps)\n",
        "  es_ydata.append(metrics['eval/episode_reward'])\n",
        "  clear_output(wait=True)\n",
        "  plt.xlim([0, es_train_fn.keywords['num_timesteps']])\n",
        "  plt.ylim([min_y, max_y])\n",
        "  plt.xlabel('# environment steps')\n",
        "  plt.ylabel('reward per episode')\n",
        "  plt.plot(es_xdata, es_ydata)\n",
        "  plt.show()\n",
        "\n",
        "es_make_inference_fn, es_params, _ = es_train_fn(environment=env, progress_fn=es_progress)\n",
        "\n",
        "print(f'for \"ES\": time to jit: {es_times[1] - es_times[0]}')\n",
        "print(f'for \"ES\": time to train: {es_times[-1] - es_times[1]}')"
      ]
    },
    {
      "attachments": {},
      "cell_type": "markdown",
      "metadata": {},
      "source": [
        "#### 3. Augmented Random Search (ARS)"
      ]
    },
    {
      "cell_type": "code",
      "execution_count": null,
      "metadata": {},
      "outputs": [],
      "source": [
        "ars_train_fn = functools.partial(ars.train, num_timesteps=600_000_000, num_evals=10, episode_length=1000, normalize_observations=True, action_repeat=1, number_of_directions=1024)\n",
        "\n",
        "max_y = 100\n",
        "min_y = 0\n",
        "\n",
        "ars_xdata, ars_ydata = [], []\n",
        "ars_times = [datetime.now()]\n",
        "\n",
        "def ars_progress(num_steps, metrics):\n",
        "  ars_times.append(datetime.now())\n",
        "  ars_xdata.append(num_steps)\n",
        "  ars_ydata.append(metrics['eval/episode_reward'])\n",
        "  clear_output(wait=True)\n",
        "  plt.xlim([0, ars_train_fn.keywords['num_timesteps']])\n",
        "  plt.ylim([min_y, max_y])\n",
        "  plt.xlabel('# environment steps')\n",
        "  plt.ylabel('reward per episode')\n",
        "  plt.plot(ars_xdata, ars_ydata)\n",
        "  plt.show()\n",
        "\n",
        "ars_make_inference_fn, ars_params, _ = ars_train_fn(environment=env, progress_fn=ars_progress)\n",
        "\n",
        "print(f'for \"ARS\": time to jit: {ars_times[1] - ars_times[0]}')\n",
        "print(f'for \"ARS\": time to train: {ars_times[-1] - ars_times[1]}')"
      ]
    },
    {
      "attachments": {},
      "cell_type": "markdown",
      "metadata": {
        "id": "uUs9hbUKIH71"
      },
      "source": [
        "### Visualize the trained agent"
      ]
    },
    {
      "cell_type": "code",
      "execution_count": null,
      "metadata": {
        "colab": {
          "base_uri": "https://localhost:8080/",
          "height": 480
        },
        "id": "RNMLEyaTspEM",
        "outputId": "c03b0854-32a9-4286-9c3f-26f2f158e617"
      },
      "outputs": [],
      "source": [
        "params = ppo_params if VIS_ALGO == \"ppo\" else es_params if VIS_ALGO == \"es\" else ars_params\n",
        "make_inference_fn = ppo_make_inference_fn if VIS_ALGO == \"ppo\" else es_make_inference_fn if VIS_ALGO == \"es\" else ars_make_inference_fn\n",
        "inference_fn = make_inference_fn(params)\n",
        "\n",
        "env = envs.create(env_name=env_name)\n",
        "jit_env_reset = jax.jit(env.reset)\n",
        "jit_env_step = jax.jit(env.step)\n",
        "jit_inference_fn = jax.jit(inference_fn)\n",
        "\n",
        "rollout = []\n",
        "rng = jax.random.PRNGKey(seed=0)\n",
        "state = jit_env_reset(rng=rng)\n",
        "for _ in range(1000):\n",
        "  rollout.append(state)\n",
        "  act_rng, rng = jax.random.split(rng)\n",
        "  act, _ = jit_inference_fn(state.obs, act_rng)\n",
        "  state = jit_env_step(state, act)\n",
        "\n",
        "HTML(html.render(env.sys, [s.qp for s in rollout]))"
      ]
    }
  ],
  "metadata": {
    "accelerator": "TPU",
    "colab": {
      "name": "Brax Training.ipynb",
      "provenance": []
    },
    "gpuClass": "standard",
    "kernelspec": {
      "display_name": "reinforcement_learning",
      "language": "python",
      "name": "python3"
    },
    "language_info": {
      "codemirror_mode": {
        "name": "ipython",
        "version": 3
      },
      "file_extension": ".py",
      "mimetype": "text/x-python",
      "name": "python",
      "nbconvert_exporter": "python",
      "pygments_lexer": "ipython3",
      "version": "3.10.8"
    },
    "vscode": {
      "interpreter": {
        "hash": "b329387e251b95764b8f65684563519503b45dc8027da482b0a7bdbaa4a30d3e"
      }
    }
  },
  "nbformat": 4,
  "nbformat_minor": 0
}
