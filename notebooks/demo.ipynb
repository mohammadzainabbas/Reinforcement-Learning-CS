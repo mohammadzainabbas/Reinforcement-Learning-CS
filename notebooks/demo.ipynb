{
  "cells": [
    {
      "attachments": {},
      "cell_type": "markdown",
      "metadata": {
        "id": "ssCOanHc8JH_"
      },
      "source": [
        "## Demo: Grasp with a robotic hand"
      ]
    },
    {
      "cell_type": "code",
      "execution_count": 1,
      "metadata": {
        "id": "_sOmCoOrF0F8"
      },
      "outputs": [],
      "source": [
        "#@title Install Brax and some helper modules\n",
        "#@markdown ## ⚠️ PLEASE NOTE:\n",
        "#@markdown This colab runs best using a TPU runtime.  From the Colab menu, choose Runtime > Change Runtime Type, then select **'TPU'** in the dropdown.\n",
        "\n",
        "from datetime import datetime\n",
        "import functools\n",
        "import os\n",
        "from os import getcwd\n",
        "from os.path import join\n",
        "from IPython.display import HTML, clear_output\n",
        "\n",
        "import jax\n",
        "import jax.numpy as jnp\n",
        "import matplotlib.pyplot as plt\n",
        "\n",
        "try:\n",
        "  import brax\n",
        "except ImportError:\n",
        "  !pip install git+https://github.com/google/brax.git@main\n",
        "  clear_output()\n",
        "  import brax\n",
        "\n",
        "from brax import envs\n",
        "from brax import jumpy as jp\n",
        "from brax.io import html\n",
        "from brax.io import model\n",
        "from brax.training.agents.ppo import train as ppo\n",
        "\n",
        "if 'COLAB_TPU_ADDR' in os.environ:\n",
        "  from jax.tools import colab_tpu\n",
        "  colab_tpu.setup_tpu()"
      ]
    },
    {
      "attachments": {},
      "cell_type": "markdown",
      "metadata": {
        "id": "Tm8zbPBcJ5RJ"
      },
      "source": [
        "#### Setting up the environment"
      ]
    },
    {
      "cell_type": "code",
      "execution_count": 2,
      "metadata": {
        "colab": {
          "base_uri": "https://localhost:8080/",
          "height": 480
        },
        "id": "NaJDZqhCLovU",
        "outputId": "50994b20-d788-4264-af00-a3f06d58f943"
      },
      "outputs": [],
      "source": [
        "# Set up some constants\n",
        "SEED = 0\n",
        "ENV_NAME = \"grasp\"\n",
        "VIS_STEPS = 1e3 # how often to render the environment\n",
        "\n",
        "# Create a Brax environment\n",
        "env_name = ENV_NAME\n",
        "env = envs.get_environment(env_name=env_name)\n",
        "state = env.reset(rng=jp.random_prngkey(seed=SEED))"
      ]
    },
    {
      "attachments": {},
      "cell_type": "markdown",
      "metadata": {},
      "source": [
        "### Details about the environment\n",
        "\n",
        "Source code for the env can be found [here](https://github.com/google/brax/blob/198dee3ac4/brax/envs/grasp.py)."
      ]
    },
    {
      "cell_type": "code",
      "execution_count": 3,
      "metadata": {},
      "outputs": [
        {
          "data": {
            "text/html": [
              "\n",
              "<html>\n",
              "  <head>\n",
              "    <title>brax visualizer</title>\n",
              "    <style>\n",
              "      body {\n",
              "        margin: 0;\n",
              "        padding: 0;\n",
              "      }\n",
              "      #brax-viewer {\n",
              "        margin: 0;\n",
              "        padding: 0;\n",
              "        height: 480px;\n",
              "      }\n",
              "    </style>\n",
              "  </head>\n",
              "  <body>\n",
              "    <script type=\"application/javascript\">\n",
              "    var system = {\"config\": {\"bodies\": [{\"name\": \"Ground\", \"colliders\": [{\"plane\": {}, \"material\": {\"friction\": 1.0, \"elasticity\": 0.0}, \"color\": \"\", \"hidden\": false, \"noContact\": false}], \"inertia\": {\"x\": 1.0, \"y\": 1.0, \"z\": 1.0}, \"mass\": 1.0, \"frozen\": {\"position\": {\"x\": 1.0, \"y\": 1.0, \"z\": 1.0}, \"rotation\": {\"x\": 1.0, \"y\": 1.0, \"z\": 1.0}, \"all\": true}}, {\"name\": \"Object\", \"colliders\": [{\"rotation\": {\"x\": 90.0, \"y\": 0.0, \"z\": 0.0}, \"capsule\": {\"radius\": 1.0, \"length\": 2.02, \"end\": 0}, \"material\": {\"friction\": 1.0, \"elasticity\": 0.0}, \"color\": \"\", \"hidden\": false, \"noContact\": false}], \"inertia\": {\"x\": 1.0, \"y\": 1.0, \"z\": 1.0}, \"mass\": 1.0, \"frozen\": {\"position\": {\"x\": 0.0, \"y\": 0.0, \"z\": 0.0}, \"rotation\": {\"x\": 0.0, \"y\": 0.0, \"z\": 0.0}, \"all\": false}}, {\"name\": \"HandThumbProximal\", \"colliders\": [{\"rotation\": {\"x\": 90.0, \"y\": 0.0, \"z\": 0.0}, \"capsule\": {\"radius\": 0.5, \"length\": 2.0, \"end\": 0}, \"material\": {\"friction\": 1.0, \"elasticity\": 0.0}, \"color\": \"\", \"hidden\": false, \"noContact\": false}], \"inertia\": {\"x\": 1.0, \"y\": 1.0, \"z\": 1.0}, \"mass\": 1.0, \"frozen\": {\"position\": {\"x\": 0.0, \"y\": 0.0, \"z\": 0.0}, \"rotation\": {\"x\": 0.0, \"y\": 0.0, \"z\": 0.0}, \"all\": false}}, {\"name\": \"HandThumbDistal\", \"colliders\": [{\"rotation\": {\"x\": 90.0, \"y\": 0.0, \"z\": 0.0}, \"capsule\": {\"radius\": 0.5, \"length\": 2.0, \"end\": 0}, \"material\": {\"friction\": 1.0, \"elasticity\": 0.0}, \"color\": \"\", \"hidden\": false, \"noContact\": false}], \"inertia\": {\"x\": 1.0, \"y\": 1.0, \"z\": 1.0}, \"mass\": 1.0, \"frozen\": {\"position\": {\"x\": 0.0, \"y\": 0.0, \"z\": 0.0}, \"rotation\": {\"x\": 0.0, \"y\": 0.0, \"z\": 0.0}, \"all\": false}}, {\"name\": \"HandThumbMiddle\", \"colliders\": [{\"rotation\": {\"x\": 90.0, \"y\": 0.0, \"z\": 0.0}, \"capsule\": {\"radius\": 0.5, \"length\": 2.0, \"end\": 0}, \"material\": {\"friction\": 1.0, \"elasticity\": 0.0}, \"color\": \"\", \"hidden\": false, \"noContact\": false}], \"inertia\": {\"x\": 1.0, \"y\": 1.0, \"z\": 1.0}, \"mass\": 1.0, \"frozen\": {\"position\": {\"x\": 0.0, \"y\": 0.0, \"z\": 0.0}, \"rotation\": {\"x\": 0.0, \"y\": 0.0, \"z\": 0.0}, \"all\": false}}, {\"name\": \"HandPalm\", \"colliders\": [{\"rotation\": {\"x\": 120.0, \"y\": 0.0, \"z\": 0.0}, \"capsule\": {\"radius\": 1.5, \"length\": 3.1, \"end\": 0}, \"material\": {\"friction\": 1.0, \"elasticity\": 0.0}, \"color\": \"\", \"hidden\": false, \"noContact\": false}], \"inertia\": {\"x\": 5000.035, \"y\": 10000.723, \"z\": 10000.723}, \"mass\": 1.0, \"frozen\": {\"position\": {\"x\": 1.0, \"y\": 1.0, \"z\": 1.0}, \"rotation\": {\"x\": 1.0, \"y\": 1.0, \"z\": 1.0}, \"all\": true}}, {\"name\": \"HandThumbProximalTwo\", \"colliders\": [{\"rotation\": {\"x\": 90.0, \"y\": 0.0, \"z\": 0.0}, \"capsule\": {\"radius\": 0.5, \"length\": 2.0, \"end\": 0}, \"material\": {\"friction\": 1.0, \"elasticity\": 0.0}, \"color\": \"\", \"hidden\": false, \"noContact\": false}], \"inertia\": {\"x\": 1.0, \"y\": 1.0, \"z\": 1.0}, \"mass\": 1.0, \"frozen\": {\"position\": {\"x\": 0.0, \"y\": 0.0, \"z\": 0.0}, \"rotation\": {\"x\": 0.0, \"y\": 0.0, \"z\": 0.0}, \"all\": false}}, {\"name\": \"HandThumbMiddleTwo\", \"colliders\": [{\"rotation\": {\"x\": 90.0, \"y\": 0.0, \"z\": 0.0}, \"capsule\": {\"radius\": 0.5, \"length\": 2.0, \"end\": 0}, \"material\": {\"friction\": 1.0, \"elasticity\": 0.0}, \"color\": \"\", \"hidden\": false, \"noContact\": false}], \"inertia\": {\"x\": 1.0, \"y\": 1.0, \"z\": 1.0}, \"mass\": 1.0, \"frozen\": {\"position\": {\"x\": 0.0, \"y\": 0.0, \"z\": 0.0}, \"rotation\": {\"x\": 0.0, \"y\": 0.0, \"z\": 0.0}, \"all\": false}}, {\"name\": \"HandThumbDistalTwo\", \"colliders\": [{\"rotation\": {\"x\": 90.0, \"y\": 0.0, \"z\": 0.0}, \"capsule\": {\"radius\": 0.5, \"length\": 2.0, \"end\": 0}, \"material\": {\"friction\": 1.0, \"elasticity\": 0.0}, \"color\": \"\", \"hidden\": false, \"noContact\": false}], \"inertia\": {\"x\": 1.0, \"y\": 1.0, \"z\": 1.0}, \"mass\": 1.0, \"frozen\": {\"position\": {\"x\": 0.0, \"y\": 0.0, \"z\": 0.0}, \"rotation\": {\"x\": 0.0, \"y\": 0.0, \"z\": 0.0}, \"all\": false}}, {\"name\": \"HandThumbProximalThree\", \"colliders\": [{\"rotation\": {\"y\": 90.0, \"x\": 0.0, \"z\": 0.0}, \"capsule\": {\"radius\": 0.5, \"length\": 2.0, \"end\": 0}, \"material\": {\"friction\": 1.0, \"elasticity\": 0.0}, \"color\": \"\", \"hidden\": false, \"noContact\": false}], \"inertia\": {\"x\": 1.0, \"y\": 1.0, \"z\": 1.0}, \"mass\": 1.0, \"frozen\": {\"position\": {\"x\": 0.0, \"y\": 0.0, \"z\": 0.0}, \"rotation\": {\"x\": 0.0, \"y\": 0.0, \"z\": 0.0}, \"all\": false}}, {\"name\": \"HandThumbMiddleThree\", \"colliders\": [{\"rotation\": {\"y\": 90.0, \"x\": 0.0, \"z\": 0.0}, \"capsule\": {\"radius\": 0.5, \"length\": 2.0, \"end\": 0}, \"material\": {\"friction\": 1.0, \"elasticity\": 0.0}, \"color\": \"\", \"hidden\": false, \"noContact\": false}], \"inertia\": {\"x\": 1.0, \"y\": 1.0, \"z\": 1.0}, \"mass\": 1.0, \"frozen\": {\"position\": {\"x\": 0.0, \"y\": 0.0, \"z\": 0.0}, \"rotation\": {\"x\": 0.0, \"y\": 0.0, \"z\": 0.0}, \"all\": false}}, {\"name\": \"HandThumbDistalThree\", \"colliders\": [{\"rotation\": {\"y\": 90.0, \"x\": 0.0, \"z\": 0.0}, \"capsule\": {\"radius\": 0.5, \"length\": 2.0, \"end\": 0}, \"material\": {\"friction\": 1.0, \"elasticity\": 0.0}, \"color\": \"\", \"hidden\": false, \"noContact\": false}], \"inertia\": {\"x\": 1.0, \"y\": 1.0, \"z\": 1.0}, \"mass\": 1.0, \"frozen\": {\"position\": {\"x\": 0.0, \"y\": 0.0, \"z\": 0.0}, \"rotation\": {\"x\": 0.0, \"y\": 0.0, \"z\": 0.0}, \"all\": false}}, {\"name\": \"HandThumbProximalFour\", \"colliders\": [{\"rotation\": {\"y\": 90.0, \"x\": 0.0, \"z\": 0.0}, \"capsule\": {\"radius\": 0.5, \"length\": 2.0, \"end\": 0}, \"material\": {\"friction\": 1.0, \"elasticity\": 0.0}, \"color\": \"\", \"hidden\": false, \"noContact\": false}], \"inertia\": {\"x\": 1.0, \"y\": 1.0, \"z\": 1.0}, \"mass\": 1.0, \"frozen\": {\"position\": {\"x\": 0.0, \"y\": 0.0, \"z\": 0.0}, \"rotation\": {\"x\": 0.0, \"y\": 0.0, \"z\": 0.0}, \"all\": false}}, {\"name\": \"HandThumbMiddleFour\", \"colliders\": [{\"rotation\": {\"y\": 90.0, \"x\": 0.0, \"z\": 0.0}, \"capsule\": {\"radius\": 0.5, \"length\": 2.0, \"end\": 0}, \"material\": {\"friction\": 1.0, \"elasticity\": 0.0}, \"color\": \"\", \"hidden\": false, \"noContact\": false}], \"inertia\": {\"x\": 1.0, \"y\": 1.0, \"z\": 1.0}, \"mass\": 1.0, \"frozen\": {\"position\": {\"x\": 0.0, \"y\": 0.0, \"z\": 0.0}, \"rotation\": {\"x\": 0.0, \"y\": 0.0, \"z\": 0.0}, \"all\": false}}, {\"name\": \"HandThumbDistalFour\", \"colliders\": [{\"rotation\": {\"y\": 90.0, \"x\": 0.0, \"z\": 0.0}, \"capsule\": {\"radius\": 0.5, \"length\": 2.0, \"end\": 0}, \"material\": {\"friction\": 1.0, \"elasticity\": 0.0}, \"color\": \"\", \"hidden\": false, \"noContact\": false}], \"inertia\": {\"x\": 1.0, \"y\": 1.0, \"z\": 1.0}, \"mass\": 1.0, \"frozen\": {\"position\": {\"x\": 0.0, \"y\": 0.0, \"z\": 0.0}, \"rotation\": {\"x\": 0.0, \"y\": 0.0, \"z\": 0.0}, \"all\": false}}, {\"name\": \"Target\", \"colliders\": [{\"sphere\": {\"radius\": 1.1}, \"material\": {\"friction\": 1.0, \"elasticity\": 0.0}, \"color\": \"\", \"hidden\": false, \"noContact\": false}], \"inertia\": {\"x\": 1.0, \"y\": 1.0, \"z\": 1.0}, \"frozen\": {\"position\": {\"x\": 1.0, \"y\": 1.0, \"z\": 1.0}, \"rotation\": {\"x\": 1.0, \"y\": 1.0, \"z\": 1.0}, \"all\": true}, \"mass\": 0.0}], \"joints\": [{\"name\": \"HandThumbMiddle_HandThumbDistal\", \"parent\": \"HandThumbMiddle\", \"child\": \"HandThumbDistal\", \"parentOffset\": {\"y\": 0.75, \"x\": 0.0, \"z\": 0.0}, \"childOffset\": {\"y\": -0.75, \"x\": 0.0, \"z\": 0.0}, \"angularDamping\": 50.0, \"angleLimit\": [{\"min\": -90.0, \"max\": 0.0}, {\"min\": -0.1, \"max\": 0.1}, {\"min\": -0.1, \"max\": 0.1}], \"stiffness\": 0.0}, {\"name\": \"HandThumbProximal_HandThumbMiddle\", \"parent\": \"HandThumbProximal\", \"child\": \"HandThumbMiddle\", \"parentOffset\": {\"y\": 0.75, \"x\": 0.0, \"z\": 0.0}, \"childOffset\": {\"y\": -0.75, \"x\": 0.0, \"z\": 0.0}, \"angularDamping\": 50.0, \"angleLimit\": [{\"min\": -90.0, \"max\": 0.0}, {\"min\": -0.1, \"max\": 0.1}, {\"min\": -0.1, \"max\": 0.1}], \"stiffness\": 0.0}, {\"name\": \"HandPalm_HandThumbProximal\", \"parent\": \"HandPalm\", \"child\": \"HandThumbProximal\", \"parentOffset\": {\"y\": 1.5, \"z\": -0.5, \"x\": 0.0}, \"childOffset\": {\"y\": -0.75, \"x\": 0.0, \"z\": 0.0}, \"angularDamping\": 50.0, \"angleLimit\": [{\"min\": -45.0, \"max\": 45.0}, {\"min\": -45.0, \"max\": 45.0}, {\"min\": -0.1, \"max\": 0.1}], \"stiffness\": 0.0}, {\"name\": \"HandThumbMiddleTwo_HandThumbDistalTwo\", \"parent\": \"HandThumbMiddleTwo\", \"child\": \"HandThumbDistalTwo\", \"parentOffset\": {\"y\": -0.75, \"x\": 0.0, \"z\": 0.0}, \"childOffset\": {\"y\": 0.75, \"x\": 0.0, \"z\": 0.0}, \"angularDamping\": 50.0, \"angleLimit\": [{\"max\": 90.0, \"min\": 0.0}, {\"min\": -0.1, \"max\": 0.1}, {\"min\": -0.1, \"max\": 0.1}], \"stiffness\": 0.0}, {\"name\": \"HandThumbProximalTwo_HandThumbMiddleTwo\", \"parent\": \"HandThumbProximalTwo\", \"child\": \"HandThumbMiddleTwo\", \"parentOffset\": {\"y\": -0.75, \"x\": 0.0, \"z\": 0.0}, \"childOffset\": {\"y\": 0.75, \"x\": 0.0, \"z\": 0.0}, \"angularDamping\": 50.0, \"angleLimit\": [{\"max\": 90.0, \"min\": 0.0}, {\"min\": -0.1, \"max\": 0.1}, {\"min\": -0.1, \"max\": 0.1}], \"stiffness\": 0.0}, {\"name\": \"HandPalm_HandThumbProximalTwo\", \"parent\": \"HandPalm\", \"child\": \"HandThumbProximalTwo\", \"parentOffset\": {\"y\": -1.5, \"z\": -0.5, \"x\": 0.0}, \"childOffset\": {\"y\": 0.75, \"x\": 0.0, \"z\": 0.0}, \"angularDamping\": 50.0, \"angleLimit\": [{\"min\": -45.0, \"max\": 45.0}, {\"min\": -45.0, \"max\": 45.0}, {\"min\": -0.1, \"max\": 0.1}], \"stiffness\": 0.0}, {\"name\": \"HandThumbMiddleThree_HandThumbDistalThree\", \"parent\": \"HandThumbMiddleThree\", \"child\": \"HandThumbDistalThree\", \"parentOffset\": {\"x\": -0.75, \"y\": 0.0, \"z\": 0.0}, \"childOffset\": {\"x\": 0.75, \"y\": 0.0, \"z\": 0.0}, \"rotation\": {\"z\": -90.0, \"x\": 0.0, \"y\": 0.0}, \"angularDamping\": 50.0, \"angleLimit\": [{\"max\": 90.0, \"min\": 0.0}, {\"min\": -0.1, \"max\": 0.1}, {\"min\": -0.1, \"max\": 0.1}], \"stiffness\": 0.0}, {\"name\": \"HandThumbProximalThree_HandThumbMiddleThree\", \"parent\": \"HandThumbProximalThree\", \"child\": \"HandThumbMiddleThree\", \"parentOffset\": {\"x\": -0.75, \"y\": 0.0, \"z\": 0.0}, \"childOffset\": {\"x\": 0.75, \"y\": 0.0, \"z\": 0.0}, \"rotation\": {\"z\": -90.0, \"x\": 0.0, \"y\": 0.0}, \"angularDamping\": 50.0, \"angleLimit\": [{\"max\": 90.0, \"min\": 0.0}, {\"min\": -0.1, \"max\": 0.1}, {\"min\": -0.1, \"max\": 0.1}], \"stiffness\": 0.0}, {\"name\": \"HandPalm_HandThumbProximalThree\", \"parent\": \"HandPalm\", \"child\": \"HandThumbProximalThree\", \"parentOffset\": {\"x\": -1.5, \"z\": -0.5, \"y\": 0.0}, \"childOffset\": {\"x\": 0.75, \"y\": 0.0, \"z\": 0.0}, \"rotation\": {\"z\": -90.0, \"x\": 0.0, \"y\": 0.0}, \"angularDamping\": 50.0, \"angleLimit\": [{\"min\": -45.0, \"max\": 45.0}, {\"min\": -45.0, \"max\": 45.0}, {\"min\": -0.1, \"max\": 0.1}], \"stiffness\": 0.0}, {\"name\": \"HandThumbMiddleFour_HandThumbDistalFour\", \"parent\": \"HandThumbMiddleFour\", \"child\": \"HandThumbDistalFour\", \"parentOffset\": {\"x\": 0.75, \"y\": 0.0, \"z\": 0.0}, \"childOffset\": {\"x\": -0.75, \"y\": 0.0, \"z\": 0.0}, \"rotation\": {\"z\": 90.0, \"x\": 0.0, \"y\": 0.0}, \"angularDamping\": 50.0, \"angleLimit\": [{\"max\": 90.0, \"min\": 0.0}, {\"min\": -0.1, \"max\": 0.1}, {\"min\": -0.1, \"max\": 0.1}], \"stiffness\": 0.0}, {\"name\": \"HandThumbProximalFour_HandThumbMiddleFour\", \"parent\": \"HandThumbProximalFour\", \"child\": \"HandThumbMiddleFour\", \"parentOffset\": {\"x\": 0.75, \"y\": 0.0, \"z\": 0.0}, \"childOffset\": {\"x\": -0.75, \"y\": 0.0, \"z\": 0.0}, \"rotation\": {\"z\": 90.0, \"x\": 0.0, \"y\": 0.0}, \"angularDamping\": 50.0, \"angleLimit\": [{\"max\": 90.0, \"min\": 0.0}, {\"min\": -0.1, \"max\": 0.1}, {\"min\": -0.1, \"max\": 0.1}], \"stiffness\": 0.0}, {\"name\": \"HandPalm_HandThumbProximalFour\", \"parent\": \"HandPalm\", \"child\": \"HandThumbProximalFour\", \"parentOffset\": {\"x\": 1.5, \"z\": -0.5, \"y\": 0.0}, \"childOffset\": {\"x\": -0.75, \"y\": 0.0, \"z\": 0.0}, \"rotation\": {\"x\": 180.0, \"z\": -90.0, \"y\": 0.0}, \"angularDamping\": 50.0, \"angleLimit\": [{\"min\": -45.0, \"max\": 45.0}, {\"min\": -45.0, \"max\": 45.0}, {\"min\": -0.1, \"max\": 0.1}], \"stiffness\": 0.0}], \"actuators\": [{\"name\": \"HandThumbMiddle_HandThumbDistal\", \"joint\": \"HandThumbMiddle_HandThumbDistal\", \"strength\": 300.0, \"angle\": {}}, {\"name\": \"HandThumbProximal_HandThumbMiddle\", \"joint\": \"HandThumbProximal_HandThumbMiddle\", \"strength\": 300.0, \"angle\": {}}, {\"name\": \"HandPalm_HandThumbProximal\", \"joint\": \"HandPalm_HandThumbProximal\", \"strength\": 300.0, \"angle\": {}}, {\"name\": \"HandThumbMiddleTwo_HandThumbDistalTwo\", \"joint\": \"HandThumbMiddleTwo_HandThumbDistalTwo\", \"strength\": 300.0, \"angle\": {}}, {\"name\": \"HandThumbProximalTwo_HandThumbMiddleTwo\", \"joint\": \"HandThumbProximalTwo_HandThumbMiddleTwo\", \"strength\": 300.0, \"angle\": {}}, {\"name\": \"HandPalm_HandThumbProximalTwo\", \"joint\": \"HandPalm_HandThumbProximalTwo\", \"strength\": 300.0, \"angle\": {}}, {\"name\": \"HandThumbMiddleThree_HandThumbDistalThree\", \"joint\": \"HandThumbMiddleThree_HandThumbDistalThree\", \"strength\": 300.0, \"angle\": {}}, {\"name\": \"HandThumbProximalThree_HandThumbMiddleThree\", \"joint\": \"HandThumbProximalThree_HandThumbMiddleThree\", \"strength\": 300.0, \"angle\": {}}, {\"name\": \"HandPalm_HandThumbProximalThree\", \"joint\": \"HandPalm_HandThumbProximalThree\", \"strength\": 300.0, \"angle\": {}}, {\"name\": \"HandThumbMiddleFour_HandThumbDistalFour\", \"joint\": \"HandThumbMiddleFour_HandThumbDistalFour\", \"strength\": 300.0, \"angle\": {}}, {\"name\": \"HandThumbProximalFour_HandThumbMiddleFour\", \"joint\": \"HandThumbProximalFour_HandThumbMiddleFour\", \"strength\": 300.0, \"angle\": {}}, {\"name\": \"HandPalm_HandThumbProximalFour\", \"joint\": \"HandPalm_HandThumbProximalFour\", \"strength\": 300.0, \"angle\": {}}], \"friction\": 1.0, \"gravity\": {\"z\": -9.8, \"x\": 0.0, \"y\": 0.0}, \"angularDamping\": -0.05, \"collideInclude\": [{\"first\": \"Ground\", \"second\": \"Object\"}, {\"first\": \"HandThumbDistal\", \"second\": \"Object\"}, {\"first\": \"HandThumbDistalTwo\", \"second\": \"Object\"}, {\"first\": \"HandThumbDistalThree\", \"second\": \"Object\"}, {\"first\": \"HandThumbDistalFour\", \"second\": \"Object\"}, {\"first\": \"HandPalm\", \"second\": \"Object\"}], \"dt\": 0.02, \"substeps\": 4, \"frozen\": {\"all\": false}, \"dynamicsMode\": \"pbd\", \"solverScaleCollide\": 1.0, \"forces\": [], \"elasticity\": 0.0, \"velocityDamping\": 0.0, \"baumgarteErp\": 0.0, \"defaults\": [], \"colliderCutoff\": 0, \"meshGeometries\": []}, \"pos\": [[[0.0, 0.0, 0.0], [0.0, 0.0, 1.0], [0.0, 2.25, 2.810660171779822], [0.0, 4.060660171779821, 1.0000000000000009], [0.0, 3.5303300858899105, 2.2803300858899114], [0.0, 0.0, 3.310660171779822], [0.0, -2.25, 2.810660171779822], [0.0, -3.5303300858899105, 2.2803300858899114], [0.0, -4.060660171779821, 1.0000000000000009], [-2.25, 0.0, 2.810660171779822], [-3.5303300858899105, 2.4388259646245184e-17, 2.280330085889911], [-4.06066017177982, 1.3204324613937713e-16, 1.0], [2.25, 0.0, 2.810660171779822], [3.5303300858899105, 2.4388259646245184e-17, 2.280330085889911], [4.06066017177982, 1.3204324613937713e-16, 1.0], [0.0, 0.0, 1.100000023841858]]], \"rot\": [[[1.0, 0.0, 0.0, 0.0], [1.0, 0.0, 0.0, 0.0], [1.0, 0.0, 0.0, 0.0], [0.7071067811865472, -0.7071067811865475, 0.0, 0.0], [0.9238795325112866, -0.3826834323650898, 0.0, 0.0], [1.0, 0.0, 0.0, 0.0], [1.0, 0.0, 0.0, 0.0], [0.9238795325112866, 0.3826834323650898, 0.0, 0.0], [0.7071067811865472, 0.7071067811865475, 0.0, 0.0], [1.0, 0.0, 0.0, 0.0], [0.9238795325112866, 4.248639577543065e-17, -0.3826834323650899, 0.0], [0.7071067811865472, 7.850462293418875e-17, -0.7071067811865477, 0.0], [1.0, 0.0, 0.0, 0.0], [0.9238795325112866, 4.248639577543065e-17, 0.3826834323650899, 0.0], [0.7071067811865472, 7.850462293418875e-17, 0.7071067811865477, 0.0], [1.0, 0.0, 0.0, 0.0]]], \"debug\": false};\n",
              "    </script>\n",
              "    <div id=\"brax-viewer\"></div>\n",
              "    <script type=\"module\">\n",
              "      import {Viewer} from 'https://cdn.jsdelivr.net/gh/google/brax@v0.1.0/js/viewer.js';\n",
              "      const domElement = document.getElementById('brax-viewer');\n",
              "      var viewer = new Viewer(domElement, system);\n",
              "    </script>\n",
              "  </body>\n",
              "</html>\n"
            ],
            "text/plain": [
              "<IPython.core.display.HTML object>"
            ]
          },
          "execution_count": 3,
          "metadata": {},
          "output_type": "execute_result"
        }
      ],
      "source": [
        "HTML(html.render(env.sys, [state.qp]))"
      ]
    },
    {
      "attachments": {},
      "cell_type": "markdown",
      "metadata": {},
      "source": [
        "### Objectives\n",
        "\n",
        "1. Grasp trains an agent to pick up an object. Grasp observes three bodies: `Hand`, `Object`, and `Target`. When `Object` reaches `Target`, the agent is rewarded.\n",
        "2. The reward is determined by the following factors: moving towards the object, being close to the object, touching the object, hitting the target and moving towards the target.\n",
        "\n",
        "It can be written in the form of equation as :\n",
        "\n",
        "$$\n",
        "\\begin{align}\n",
        "\n",
        "% \\verb|reward = moving_to_object + close_to_object + touching_object + 5. * target_hit + moving_to_target|\n",
        "\n",
        "reward &= moving\\ to\\ object + close\\ to\\ object + touching\\ object + 5 * target\\ hit + moving\\ to\\ target\n",
        "\n",
        "\\\\[space]\n",
        "\n",
        "Where\n",
        "\n",
        "reward: is the final reward achieved.\n",
        "moving\\ to\\ object: is the reward for moving towards the object.\n",
        "close\\ to\\ object: is the reward for being close to the object.\n",
        "touching\\ object: is the reward for touching the object.\n",
        "target\\ hit: is the reward for hitting the target and its multiplied by 5.\n",
        "moving\\ to\\ target: is the reward for moving towards the target.\n",
        "\n",
        "\\end{align}"
      ]
    },
    {
      "attachments": {},
      "cell_type": "markdown",
      "metadata": {
        "id": "25iky4mITUhh"
      },
      "source": [
        "### Training an agent\n",
        "\n",
        "We'll use a simple policy gradient algorithm to train an agent to grasp the ball. The agent is a neural network that takes as input the state of the environment and outputs a probability distribution over actions. The agent is trained to maximize the expected return of the environment, which is the sum of rewards over time.\n",
        "\n",
        "* [Proximal policy optimization](https://github.com/google/brax/blob/main/brax/training/agents/ppo/train.py)\n",
        "\n",
        "Trainers take as input an environment function and some hyperparameters, and return an inference function to operate the environment."
      ]
    },
    {
      "cell_type": "code",
      "execution_count": null,
      "metadata": {
        "colab": {
          "base_uri": "https://localhost:8080/",
          "height": 319
        },
        "id": "4vgMSWODfyMC",
        "outputId": "44c83693-a890-453c-b9a3-5eebaa69760a"
      },
      "outputs": [],
      "source": [
        "train_fn = functools.partial(ppo.train, num_timesteps=600_000_000, num_evals=10, reward_scaling=10, episode_length=1000, normalize_observations=True, action_repeat=1, unroll_length=20, num_minibatches=32, num_updates_per_batch=2, discounting=0.99, learning_rate=3e-4, entropy_cost=0.001, num_envs=2048, batch_size=256)\n",
        "\n",
        "max_y = 100\n",
        "min_y = 0\n",
        "\n",
        "xdata, ydata = [], []\n",
        "times = [datetime.now()]\n",
        "\n",
        "def progress(num_steps, metrics):\n",
        "  times.append(datetime.now())\n",
        "  xdata.append(num_steps)\n",
        "  ydata.append(metrics['eval/episode_reward'])\n",
        "  clear_output(wait=True)\n",
        "  plt.xlim([0, train_fn.keywords['num_timesteps']])\n",
        "  plt.ylim([min_y, max_y])\n",
        "  plt.xlabel('# environment steps')\n",
        "  plt.ylabel('reward per episode')\n",
        "  plt.plot(xdata, ydata)\n",
        "  plt.show()\n",
        "\n",
        "make_inference_fn, params, _ = train_fn(environment=env, progress_fn=progress)\n",
        "\n",
        "print(f'time to jit: {times[1] - times[0]}')\n",
        "print(f'time to train: {times[-1] - times[1]}')"
      ]
    },
    {
      "attachments": {},
      "cell_type": "markdown",
      "metadata": {
        "id": "FGPyeF8Jsj_M"
      },
      "source": [
        "#### Saving and Loading Policies"
      ]
    },
    {
      "cell_type": "code",
      "execution_count": null,
      "metadata": {
        "id": "fgB52sgjDhvi"
      },
      "outputs": [],
      "source": [
        "output_model_path = join(getcwd(), \"ppo_params\")\n",
        "model.save_params(output_model_path, params)\n",
        "params = model.load_params(output_model_path)\n",
        "inference_fn = make_inference_fn(params)"
      ]
    },
    {
      "attachments": {},
      "cell_type": "markdown",
      "metadata": {
        "id": "uUs9hbUKIH71"
      },
      "source": [
        "### Visualizing a Policy's Behavior"
      ]
    },
    {
      "cell_type": "code",
      "execution_count": null,
      "metadata": {
        "colab": {
          "base_uri": "https://localhost:8080/",
          "height": 480
        },
        "id": "RNMLEyaTspEM",
        "outputId": "c03b0854-32a9-4286-9c3f-26f2f158e617"
      },
      "outputs": [],
      "source": [
        "env = envs.create(env_name=env_name)\n",
        "jit_env_reset = jax.jit(env.reset)\n",
        "jit_env_step = jax.jit(env.step)\n",
        "jit_inference_fn = jax.jit(inference_fn)\n",
        "\n",
        "rollout = []\n",
        "rng = jax.random.PRNGKey(seed=0)\n",
        "state = jit_env_reset(rng=rng)\n",
        "for _ in range(1000):\n",
        "  rollout.append(state)\n",
        "  act_rng, rng = jax.random.split(rng)\n",
        "  act, _ = jit_inference_fn(state.obs, act_rng)\n",
        "  state = jit_env_step(state, act)\n",
        "\n",
        "HTML(html.render(env.sys, [s.qp for s in rollout]))"
      ]
    }
  ],
  "metadata": {
    "accelerator": "TPU",
    "colab": {
      "name": "Brax Training.ipynb",
      "provenance": []
    },
    "gpuClass": "standard",
    "kernelspec": {
      "display_name": "reinforcement_learning",
      "language": "python",
      "name": "python3"
    },
    "language_info": {
      "codemirror_mode": {
        "name": "ipython",
        "version": 3
      },
      "file_extension": ".py",
      "mimetype": "text/x-python",
      "name": "python",
      "nbconvert_exporter": "python",
      "pygments_lexer": "ipython3",
      "version": "3.10.8"
    },
    "vscode": {
      "interpreter": {
        "hash": "b329387e251b95764b8f65684563519503b45dc8027da482b0a7bdbaa4a30d3e"
      }
    }
  },
  "nbformat": 4,
  "nbformat_minor": 0
}
